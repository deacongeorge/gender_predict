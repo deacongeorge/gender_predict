{
 "cells": [
  {
   "cell_type": "code",
   "execution_count": 2,
   "metadata": {},
   "outputs": [
    {
     "name": "stderr",
     "output_type": "stream",
     "text": [
      "C:\\Users\\yasser\\Anaconda2\\envs\\pyt36\\lib\\site-packages\\gensim\\utils.py:1197: UserWarning: detected Windows; aliasing chunkize to chunkize_serial\n",
      "  warnings.warn(\"detected Windows; aliasing chunkize to chunkize_serial\")\n"
     ]
    }
   ],
   "source": [
    "# import python libraries\n",
    "\n",
    "import pandas as pd\n",
    "import nbconvert\n",
    "import matplotlib.pyplot as plt\n",
    "import numpy as np\n",
    "import scipy\n",
    "import xlrd\n",
    "import seaborn as sns\n",
    "%matplotlib inline\n",
    "from sklearn.feature_extraction.text import CountVectorizer\n",
    "import re, string, unicodedata\n",
    "import os\n",
    "import glob\n",
    "import gensim\n",
    "import nltk\n",
    "#import contractions\n",
    "import inflection as inflect\n",
    "from bs4 import BeautifulSoup\n",
    "from nltk import word_tokenize, sent_tokenize\n",
    "from nltk.corpus import stopwords\n",
    "from nltk.stem import LancasterStemmer, WordNetLemmatizer\n",
    "from string import ascii_lowercase\n",
    "import itertools, snowballstemmer\n",
    "from pyspark.ml.feature import HashingTF, IDF, Tokenizer\n",
    "from pyspark.ml.feature import Word2Vec\n",
    "import spacy\n",
    "#import basemap as basemap\n",
    "from matplotlib.colors import rgb2hex\n",
    "from matplotlib.patches import Polygon\n",
    "from geopy.geocoders import Nominatim\n",
    "import math\n",
    "a ='a'"
   ]
  },
  {
   "cell_type": "code",
   "execution_count": 3,
   "metadata": {},
   "outputs": [],
   "source": [
    "import spacy\n",
    "# Load the spacy model that you have installed\n",
    "nlp = spacy.load('en_core_web_sm')\n",
    "# process a sentence using the model\n",
    "doc = nlp(\"This is some text that I am processing with Spacy\")\n",
    "# It's that simple - all of the vectors and words are assigned after this point\n",
    "# Get the vector for 'text':\n",
    "doc[3].vector\n",
    "# Get the mean vector for the entire sentence (useful for sentence classification etc.)\n",
    "doc.vector\n",
    "a='a'"
   ]
  },
  {
   "cell_type": "code",
   "execution_count": 25,
   "metadata": {},
   "outputs": [],
   "source": [
    "#Data Exploration\n",
    "# 3.0 Exploration Data Analysis\n",
    "\n",
    "'''\n",
    "In this section visual plots and tables are used to explore the variables especially as good predictors of\n",
    "different categories of gender.\n",
    "The relationship between variables are visualised and the hypotheses proposed.\n",
    "'''\n",
    "from datetime import timedelta\n",
    "import plotly\n",
    "import xml.etree.ElementTree as et\n",
    "from math import sin, cos, sqrt, atan2, radians\n",
    "# from geopy.distance import distance\n",
    "from plotly.graph_objs import Data, Scatter, Layout, Figure, Histogram\n",
    "from plotly.offline import download_plotlyjs, init_notebook_mode, plot, iplot\n",
    "from IPython.core.display import display, HTML\n",
    "#import gmaps\n",
    "from IPython.display import Image\n",
    "import plotly.plotly as ply\n",
    "#from matplotlib import basemap"
   ]
  },
  {
   "cell_type": "code",
   "execution_count": null,
   "metadata": {},
   "outputs": [],
   "source": [
    "'''\n",
    "4.0 Feature extraction, transformation and Engineering'''\n",
    "b = 'b'"
   ]
  },
  {
   "cell_type": "code",
   "execution_count": 127,
   "metadata": {},
   "outputs": [
    {
     "data": {
      "text/html": [
       "<div>\n",
       "<style>\n",
       "    .dataframe thead tr:only-child th {\n",
       "        text-align: right;\n",
       "    }\n",
       "\n",
       "    .dataframe thead th {\n",
       "        text-align: left;\n",
       "    }\n",
       "\n",
       "    .dataframe tbody tr th {\n",
       "        vertical-align: top;\n",
       "    }\n",
       "</style>\n",
       "<table border=\"1\" class=\"dataframe\">\n",
       "  <thead>\n",
       "    <tr style=\"text-align: right;\">\n",
       "      <th></th>\n",
       "      <th>tweet_count</th>\n",
       "      <th>sk_binarize_twcount</th>\n",
       "      <th>binarize_twcount</th>\n",
       "    </tr>\n",
       "  </thead>\n",
       "  <tbody>\n",
       "    <tr>\n",
       "      <th>0</th>\n",
       "      <td>110964</td>\n",
       "      <td>1</td>\n",
       "      <td>1</td>\n",
       "    </tr>\n",
       "    <tr>\n",
       "      <th>1</th>\n",
       "      <td>7471</td>\n",
       "      <td>1</td>\n",
       "      <td>1</td>\n",
       "    </tr>\n",
       "    <tr>\n",
       "      <th>2</th>\n",
       "      <td>5617</td>\n",
       "      <td>1</td>\n",
       "      <td>1</td>\n",
       "    </tr>\n",
       "    <tr>\n",
       "      <th>3</th>\n",
       "      <td>1693</td>\n",
       "      <td>1</td>\n",
       "      <td>1</td>\n",
       "    </tr>\n",
       "    <tr>\n",
       "      <th>4</th>\n",
       "      <td>31462</td>\n",
       "      <td>1</td>\n",
       "      <td>1</td>\n",
       "    </tr>\n",
       "    <tr>\n",
       "      <th>5</th>\n",
       "      <td>20036</td>\n",
       "      <td>1</td>\n",
       "      <td>1</td>\n",
       "    </tr>\n",
       "    <tr>\n",
       "      <th>6</th>\n",
       "      <td>13354</td>\n",
       "      <td>1</td>\n",
       "      <td>1</td>\n",
       "    </tr>\n",
       "    <tr>\n",
       "      <th>7</th>\n",
       "      <td>112117</td>\n",
       "      <td>1</td>\n",
       "      <td>1</td>\n",
       "    </tr>\n",
       "    <tr>\n",
       "      <th>8</th>\n",
       "      <td>482</td>\n",
       "      <td>1</td>\n",
       "      <td>1</td>\n",
       "    </tr>\n",
       "    <tr>\n",
       "      <th>9</th>\n",
       "      <td>26085</td>\n",
       "      <td>1</td>\n",
       "      <td>1</td>\n",
       "    </tr>\n",
       "    <tr>\n",
       "      <th>10</th>\n",
       "      <td>5179</td>\n",
       "      <td>1</td>\n",
       "      <td>1</td>\n",
       "    </tr>\n",
       "  </tbody>\n",
       "</table>\n",
       "</div>"
      ],
      "text/plain": [
       "    tweet_count  sk_binarize_twcount  binarize_twcount\n",
       "0        110964                    1                 1\n",
       "1          7471                    1                 1\n",
       "2          5617                    1                 1\n",
       "3          1693                    1                 1\n",
       "4         31462                    1                 1\n",
       "5         20036                    1                 1\n",
       "6         13354                    1                 1\n",
       "7        112117                    1                 1\n",
       "8           482                    1                 1\n",
       "9         26085                    1                 1\n",
       "10         5179                    1                 1"
      ]
     },
     "execution_count": 127,
     "metadata": {},
     "output_type": "execute_result"
    }
   ],
   "source": [
    "# binarise count or frequency of occurance\n",
    "\n",
    "binarize_twcount = np.array(gender_exp_df['tweet_count']) \n",
    "binarize_twcount[binarize_twcount >= 1] = 1\n",
    "gender_exp_df['binarize_twcount'] = binarize_twcount\n",
    "\n",
    "#using scikit-learn's Binarizer class here from preprocessing module to binarize instead of numpy arrays.\n",
    "from sklearn.preprocessing import Binarizer\n",
    "bn = Binarizer(threshold=0.9)\n",
    "\n",
    "sk_binarize_twcount = bn.transform([gender_exp_df['tweet_count']])[0]\n",
    "\n",
    "gender_exp_df['sk_binarize_twcount'] = sk_binarize_twcount\n",
    "\n",
    "\n",
    "gender_exp_df[['tweet_count','sk_binarize_twcount','binarize_twcount']].head(11)\n"
   ]
  },
  {
   "cell_type": "code",
   "execution_count": 128,
   "metadata": {},
   "outputs": [
    {
     "data": {
      "text/plain": [
       "0    0.000000\n",
       "1    0.000077\n",
       "2    0.008759\n",
       "3    0.000230\n",
       "4    0.042473\n",
       "Name: fav_percent, dtype: float64"
      ]
     },
     "execution_count": 128,
     "metadata": {},
     "output_type": "execute_result"
    }
   ],
   "source": [
    "# fav_number measures the popularity of tweets\n",
    "\n",
    "gender_exp_df['fav_percent'] = gender_exp_df.fav_number/np.sum(gender_exp_df.fav_number)*100\n",
    "\n",
    "gender_exp_df['fav_percent'].head(5)"
   ]
  },
  {
   "cell_type": "code",
   "execution_count": 129,
   "metadata": {},
   "outputs": [
    {
     "data": {
      "text/plain": [
       "0     0\n",
       "1     0\n",
       "2     9\n",
       "3     0\n",
       "4    42\n",
       "Name: fav_pop1000, dtype: int32"
      ]
     },
     "execution_count": 129,
     "metadata": {},
     "output_type": "execute_result"
    }
   ],
   "source": [
    "# Rounding to 1000\n",
    "\n",
    "gender_exp_df['fav_pop1000'] = np.array(np.round((gender_exp_df['fav_percent'] * 1000)),  dtype='int') \n",
    "\n",
    "gender_exp_df['fav_pop1000'].head(5)"
   ]
  },
  {
   "cell_type": "code",
   "execution_count": 130,
   "metadata": {},
   "outputs": [
    {
     "data": {
      "text/plain": [
       "array([[1.10964000e+05, 0.00000000e+00, 1.23130093e+10, 0.00000000e+00,\n",
       "        0.00000000e+00],\n",
       "       [7.47100000e+03, 6.80000000e+01, 5.58158410e+07, 5.08028000e+05,\n",
       "        4.62400000e+03],\n",
       "       [5.61700000e+03, 7.69600000e+03, 3.15506890e+07, 4.32284320e+07,\n",
       "        5.92284160e+07],\n",
       "       [1.69300000e+03, 2.02000000e+02, 2.86624900e+06, 3.41986000e+05,\n",
       "        4.08040000e+04],\n",
       "       [3.14620000e+04, 3.73180000e+04, 9.89857444e+08, 1.17409892e+09,\n",
       "        1.39263312e+09]])"
      ]
     },
     "execution_count": 130,
     "metadata": {},
     "output_type": "execute_result"
    }
   ],
   "source": [
    "# build a feature called interaction showing the interaction between tweet count and fav_number\n",
    "tw_countfav = gender_exp_df[['tweet_count', 'fav_number']]\n",
    "\n",
    "from sklearn.preprocessing import PolynomialFeatures\n",
    "pf = PolynomialFeatures(degree=2, interaction_only=False,  \n",
    "                        include_bias=False)\n",
    "\n",
    "res = pf.fit_transform(tw_countfav)\n",
    "\n",
    "res[:5]"
   ]
  },
  {
   "cell_type": "code",
   "execution_count": 131,
   "metadata": {},
   "outputs": [
    {
     "data": {
      "text/html": [
       "<div>\n",
       "<style>\n",
       "    .dataframe thead tr:only-child th {\n",
       "        text-align: right;\n",
       "    }\n",
       "\n",
       "    .dataframe thead th {\n",
       "        text-align: left;\n",
       "    }\n",
       "\n",
       "    .dataframe tbody tr th {\n",
       "        vertical-align: top;\n",
       "    }\n",
       "</style>\n",
       "<table border=\"1\" class=\"dataframe\">\n",
       "  <thead>\n",
       "    <tr style=\"text-align: right;\">\n",
       "      <th></th>\n",
       "      <th>count_degree</th>\n",
       "      <th>fav_degree</th>\n",
       "    </tr>\n",
       "  </thead>\n",
       "  <tbody>\n",
       "    <tr>\n",
       "      <th>0</th>\n",
       "      <td>1</td>\n",
       "      <td>0</td>\n",
       "    </tr>\n",
       "    <tr>\n",
       "      <th>1</th>\n",
       "      <td>0</td>\n",
       "      <td>1</td>\n",
       "    </tr>\n",
       "    <tr>\n",
       "      <th>2</th>\n",
       "      <td>2</td>\n",
       "      <td>0</td>\n",
       "    </tr>\n",
       "    <tr>\n",
       "      <th>3</th>\n",
       "      <td>1</td>\n",
       "      <td>1</td>\n",
       "    </tr>\n",
       "    <tr>\n",
       "      <th>4</th>\n",
       "      <td>0</td>\n",
       "      <td>2</td>\n",
       "    </tr>\n",
       "  </tbody>\n",
       "</table>\n",
       "</div>"
      ],
      "text/plain": [
       "   count_degree  fav_degree\n",
       "0             1           0\n",
       "1             0           1\n",
       "2             2           0\n",
       "3             1           1\n",
       "4             0           2"
      ]
     },
     "execution_count": 131,
     "metadata": {},
     "output_type": "execute_result"
    }
   ],
   "source": [
    "# degrees of interaction\n",
    "\n",
    "degree_df = pd.DataFrame(pf.powers_, columns=['count_degree','fav_degree'])\n",
    "\n",
    "\n",
    "degree_df.head(5)"
   ]
  },
  {
   "cell_type": "code",
   "execution_count": 132,
   "metadata": {},
   "outputs": [
    {
     "data": {
      "text/html": [
       "<div>\n",
       "<style>\n",
       "    .dataframe thead tr:only-child th {\n",
       "        text-align: right;\n",
       "    }\n",
       "\n",
       "    .dataframe thead th {\n",
       "        text-align: left;\n",
       "    }\n",
       "\n",
       "    .dataframe tbody tr th {\n",
       "        vertical-align: top;\n",
       "    }\n",
       "</style>\n",
       "<table border=\"1\" class=\"dataframe\">\n",
       "  <thead>\n",
       "    <tr style=\"text-align: right;\">\n",
       "      <th></th>\n",
       "      <th>tweet_count</th>\n",
       "      <th>fav_number</th>\n",
       "      <th>tweet_count^2</th>\n",
       "      <th>tweet_countxfav_number</th>\n",
       "      <th>fav_number^2</th>\n",
       "    </tr>\n",
       "  </thead>\n",
       "  <tbody>\n",
       "    <tr>\n",
       "      <th>0</th>\n",
       "      <td>110964.0</td>\n",
       "      <td>0.0</td>\n",
       "      <td>1.231301e+10</td>\n",
       "      <td>0.000000e+00</td>\n",
       "      <td>0.000000e+00</td>\n",
       "    </tr>\n",
       "    <tr>\n",
       "      <th>1</th>\n",
       "      <td>7471.0</td>\n",
       "      <td>68.0</td>\n",
       "      <td>5.581584e+07</td>\n",
       "      <td>5.080280e+05</td>\n",
       "      <td>4.624000e+03</td>\n",
       "    </tr>\n",
       "    <tr>\n",
       "      <th>2</th>\n",
       "      <td>5617.0</td>\n",
       "      <td>7696.0</td>\n",
       "      <td>3.155069e+07</td>\n",
       "      <td>4.322843e+07</td>\n",
       "      <td>5.922842e+07</td>\n",
       "    </tr>\n",
       "    <tr>\n",
       "      <th>3</th>\n",
       "      <td>1693.0</td>\n",
       "      <td>202.0</td>\n",
       "      <td>2.866249e+06</td>\n",
       "      <td>3.419860e+05</td>\n",
       "      <td>4.080400e+04</td>\n",
       "    </tr>\n",
       "    <tr>\n",
       "      <th>4</th>\n",
       "      <td>31462.0</td>\n",
       "      <td>37318.0</td>\n",
       "      <td>9.898574e+08</td>\n",
       "      <td>1.174099e+09</td>\n",
       "      <td>1.392633e+09</td>\n",
       "    </tr>\n",
       "  </tbody>\n",
       "</table>\n",
       "</div>"
      ],
      "text/plain": [
       "   tweet_count  fav_number  tweet_count^2  tweet_countxfav_number  \\\n",
       "0     110964.0         0.0   1.231301e+10            0.000000e+00   \n",
       "1       7471.0        68.0   5.581584e+07            5.080280e+05   \n",
       "2       5617.0      7696.0   3.155069e+07            4.322843e+07   \n",
       "3       1693.0       202.0   2.866249e+06            3.419860e+05   \n",
       "4      31462.0     37318.0   9.898574e+08            1.174099e+09   \n",
       "\n",
       "   fav_number^2  \n",
       "0  0.000000e+00  \n",
       "1  4.624000e+03  \n",
       "2  5.922842e+07  \n",
       "3  4.080400e+04  \n",
       "4  1.392633e+09  "
      ]
     },
     "execution_count": 132,
     "metadata": {},
     "output_type": "execute_result"
    }
   ],
   "source": [
    "# interaction features\n",
    "\n",
    "intr_features = pd.DataFrame(res, columns=['tweet_count', 'fav_number',  \n",
    "                                           'tweet_count^2', \n",
    "                                           'tweet_countxfav_number',  \n",
    "                                           'fav_number^2'])\n",
    "intr_features.head(5)\n"
   ]
  },
  {
   "cell_type": "code",
   "execution_count": 133,
   "metadata": {},
   "outputs": [],
   "source": [
    "# categorical feature engineering ( norminal user_timezone, user_location, text. description)"
   ]
  },
  {
   "cell_type": "code",
   "execution_count": 134,
   "metadata": {},
   "outputs": [
    {
     "data": {
      "text/html": [
       "<div>\n",
       "<style>\n",
       "    .dataframe thead tr:only-child th {\n",
       "        text-align: right;\n",
       "    }\n",
       "\n",
       "    .dataframe thead th {\n",
       "        text-align: left;\n",
       "    }\n",
       "\n",
       "    .dataframe tbody tr th {\n",
       "        vertical-align: top;\n",
       "    }\n",
       "</style>\n",
       "<table border=\"1\" class=\"dataframe\">\n",
       "  <thead>\n",
       "    <tr style=\"text-align: right;\">\n",
       "      <th></th>\n",
       "      <th>text_clean</th>\n",
       "      <th>text_sentiment</th>\n",
       "    </tr>\n",
       "  </thead>\n",
       "  <tbody>\n",
       "    <tr>\n",
       "      <th>0</th>\n",
       "      <td>robbi respond critic win eddi edward worldtitl...</td>\n",
       "      <td>0.800000</td>\n",
       "    </tr>\n",
       "    <tr>\n",
       "      <th>1</th>\n",
       "      <td>felt friend live stori httpstcoarng yhno retir...</td>\n",
       "      <td>0.136364</td>\n",
       "    </tr>\n",
       "  </tbody>\n",
       "</table>\n",
       "</div>"
      ],
      "text/plain": [
       "                                          text_clean  text_sentiment\n",
       "0  robbi respond critic win eddi edward worldtitl...        0.800000\n",
       "1  felt friend live stori httpstcoarng yhno retir...        0.136364"
      ]
     },
     "execution_count": 134,
     "metadata": {},
     "output_type": "execute_result"
    }
   ],
   "source": [
    "# features from text data\n",
    "# as a feature the positive and negative sentiment polarity of text by different categories of gender could be a differentiator.\n",
    "# using textBlob the polarity of texts are extracted for as classification feature\n",
    "'''\n",
    "Spark.ml.feautures.Word2Vec vectorize sentences\n",
    "Spark (naively) uses average of vectors for all words in the document as representation of the document.\n",
    "\"The Word2VecModel transforms each document into a vector using the average of all words in the document;\n",
    "this vector can then be used as features for prediction, document similarity calculations, etc\n",
    "'''\n",
    "from textblob import TextBlob\n",
    "\n",
    "gender_exp_df['text_clean'] = gender_exp_df['text_clean'].astype(str)\n",
    "\n",
    "gender_exp_df['text_sentiment'] = gender_exp_df['text_clean'].apply(lambda x: TextBlob(x).sentiment[0] )\n",
    "\n",
    "gender_exp_df[['text_clean','text_sentiment']].head(2)\n",
    "\n"
   ]
  },
  {
   "cell_type": "code",
   "execution_count": 135,
   "metadata": {},
   "outputs": [
    {
     "data": {
      "text/html": [
       "<div>\n",
       "<style>\n",
       "    .dataframe thead tr:only-child th {\n",
       "        text-align: right;\n",
       "    }\n",
       "\n",
       "    .dataframe thead th {\n",
       "        text-align: left;\n",
       "    }\n",
       "\n",
       "    .dataframe tbody tr th {\n",
       "        vertical-align: top;\n",
       "    }\n",
       "</style>\n",
       "<table border=\"1\" class=\"dataframe\">\n",
       "  <thead>\n",
       "    <tr style=\"text-align: right;\">\n",
       "      <th></th>\n",
       "      <th>Unnamed: 0</th>\n",
       "      <th>unit_id</th>\n",
       "      <th>gender</th>\n",
       "      <th>gender_confidence</th>\n",
       "      <th>fav_number</th>\n",
       "      <th>profileimage</th>\n",
       "      <th>retweet_count</th>\n",
       "      <th>tweet_coord</th>\n",
       "      <th>tweet_count</th>\n",
       "      <th>tweet_created</th>\n",
       "      <th>...</th>\n",
       "      <th>fav_percent</th>\n",
       "      <th>fav_pop1000</th>\n",
       "      <th>text_sentiment</th>\n",
       "      <th>textvec1</th>\n",
       "      <th>textvec2</th>\n",
       "      <th>textvec3</th>\n",
       "      <th>textvec4</th>\n",
       "      <th>textvec5</th>\n",
       "      <th>textvec6</th>\n",
       "      <th>textvec7</th>\n",
       "    </tr>\n",
       "  </thead>\n",
       "  <tbody>\n",
       "    <tr>\n",
       "      <th>0</th>\n",
       "      <td>0</td>\n",
       "      <td>815719226</td>\n",
       "      <td>male</td>\n",
       "      <td>1.0000</td>\n",
       "      <td>0</td>\n",
       "      <td>https://pbs.twimg.com/profile_images/414342229...</td>\n",
       "      <td>0</td>\n",
       "      <td>NaN</td>\n",
       "      <td>110964</td>\n",
       "      <td>10/26/15 12:40</td>\n",
       "      <td>...</td>\n",
       "      <td>0.000000</td>\n",
       "      <td>0</td>\n",
       "      <td>0.800000</td>\n",
       "      <td>-0.005874</td>\n",
       "      <td>0.094237</td>\n",
       "      <td>-0.009487</td>\n",
       "      <td>-0.009862</td>\n",
       "      <td>-0.028193</td>\n",
       "      <td>0.069530</td>\n",
       "      <td>0.018526</td>\n",
       "    </tr>\n",
       "    <tr>\n",
       "      <th>1</th>\n",
       "      <td>1</td>\n",
       "      <td>815719227</td>\n",
       "      <td>male</td>\n",
       "      <td>1.0000</td>\n",
       "      <td>68</td>\n",
       "      <td>https://pbs.twimg.com/profile_images/539604221...</td>\n",
       "      <td>0</td>\n",
       "      <td>NaN</td>\n",
       "      <td>7471</td>\n",
       "      <td>10/26/15 12:40</td>\n",
       "      <td>...</td>\n",
       "      <td>0.000077</td>\n",
       "      <td>0</td>\n",
       "      <td>0.136364</td>\n",
       "      <td>0.027986</td>\n",
       "      <td>0.127141</td>\n",
       "      <td>-0.055437</td>\n",
       "      <td>0.003331</td>\n",
       "      <td>-0.075345</td>\n",
       "      <td>0.053394</td>\n",
       "      <td>0.026976</td>\n",
       "    </tr>\n",
       "    <tr>\n",
       "      <th>2</th>\n",
       "      <td>2</td>\n",
       "      <td>815719228</td>\n",
       "      <td>male</td>\n",
       "      <td>0.6625</td>\n",
       "      <td>7696</td>\n",
       "      <td>https://pbs.twimg.com/profile_images/657330418...</td>\n",
       "      <td>1</td>\n",
       "      <td>NaN</td>\n",
       "      <td>5617</td>\n",
       "      <td>10/26/15 12:40</td>\n",
       "      <td>...</td>\n",
       "      <td>0.008759</td>\n",
       "      <td>9</td>\n",
       "      <td>0.204167</td>\n",
       "      <td>0.025116</td>\n",
       "      <td>0.212035</td>\n",
       "      <td>-0.110323</td>\n",
       "      <td>0.029419</td>\n",
       "      <td>-0.061153</td>\n",
       "      <td>0.054980</td>\n",
       "      <td>0.102623</td>\n",
       "    </tr>\n",
       "  </tbody>\n",
       "</table>\n",
       "<p>3 rows × 45 columns</p>\n",
       "</div>"
      ],
      "text/plain": [
       "   Unnamed: 0    unit_id gender  gender_confidence  fav_number  \\\n",
       "0           0  815719226   male             1.0000           0   \n",
       "1           1  815719227   male             1.0000          68   \n",
       "2           2  815719228   male             0.6625        7696   \n",
       "\n",
       "                                        profileimage  retweet_count  \\\n",
       "0  https://pbs.twimg.com/profile_images/414342229...              0   \n",
       "1  https://pbs.twimg.com/profile_images/539604221...              0   \n",
       "2  https://pbs.twimg.com/profile_images/657330418...              1   \n",
       "\n",
       "  tweet_coord  tweet_count   tweet_created    ...     fav_percent fav_pop1000  \\\n",
       "0         NaN       110964  10/26/15 12:40    ...        0.000000           0   \n",
       "1         NaN         7471  10/26/15 12:40    ...        0.000077           0   \n",
       "2         NaN         5617  10/26/15 12:40    ...        0.008759           9   \n",
       "\n",
       "  text_sentiment  textvec1  textvec2  textvec3  textvec4  textvec5  textvec6  \\\n",
       "0       0.800000 -0.005874  0.094237 -0.009487 -0.009862 -0.028193  0.069530   \n",
       "1       0.136364  0.027986  0.127141 -0.055437  0.003331 -0.075345  0.053394   \n",
       "2       0.204167  0.025116  0.212035 -0.110323  0.029419 -0.061153  0.054980   \n",
       "\n",
       "   textvec7  \n",
       "0  0.018526  \n",
       "1  0.026976  \n",
       "2  0.102623  \n",
       "\n",
       "[3 rows x 45 columns]"
      ]
     },
     "execution_count": 135,
     "metadata": {},
     "output_type": "execute_result"
    }
   ],
   "source": [
    "# tweet text vectorisation\n",
    "from pyspark.sql.session import SparkSession\n",
    "\n",
    "# instantiate Spark\n",
    "spark = SparkSession.builder.getOrCreate()\n",
    "\n",
    "gender_text_df11 = gender_exp_df.loc[:,['unit_id','text_clean']].astype(str) # select unit_id and text_clean\n",
    "\n",
    "# create pyspark dataframe\n",
    "spark_text_df11 = spark.createDataFrame(gender_text_df11)\n",
    "\n",
    "# display two rows\n",
    "\n",
    "#spark_timezone_df9.show(n=2)\n",
    "\n",
    "# tokenise the words\n",
    "\n",
    "txt_tokenizer = Tokenizer(inputCol=\"text_clean\", outputCol=\"text_words\")\n",
    "txt_wordsData = txt_tokenizer.transform(spark_text_df11)\n",
    "\n",
    "#txt_wordsData.show(n=2)\n",
    "\n",
    "# Learn a mapping from words to Vectors.\n",
    "\n",
    "txt_word2Vec = Word2Vec(vectorSize=7, minCount=0, inputCol=\"text_words\", outputCol=\"txt_result\")\n",
    "\n",
    "txt_model = txt_word2Vec.fit(txt_wordsData)\n",
    "\n",
    "txt_transform = txt_model.transform(txt_wordsData)\n",
    "\n",
    "\n",
    "# change to pandas dataframe and merge to major dataframe\n",
    "\n",
    "text_result_df2 = txt_transform.toPandas()\n",
    "# convert result to list then a dataframe\n",
    "\n",
    "Txtresult = text_result_df2['txt_result'].tolist()   # convert to python list\n",
    "\n",
    "txtresult_pd_df = pd.DataFrame(Txtresult, columns=['textvec1', 'textvec2', 'textvec3', 'textvec4', 'textvec5', 'textvec6', 'textvec7'], index = range(20050)) # to datafram\n",
    "\n",
    "gender_exp_df.index = range(20050)\n",
    "\n",
    "# merge to gender_exp_df dataframe\n",
    "gender_exp_df12 = pd.concat([gender_exp_df, txtresult_pd_df], axis=1)\n",
    "\n",
    "gender_exp_df12.head(3)\n"
   ]
  },
  {
   "cell_type": "code",
   "execution_count": 136,
   "metadata": {},
   "outputs": [
    {
     "data": {
      "text/html": [
       "<div>\n",
       "<style>\n",
       "    .dataframe thead tr:only-child th {\n",
       "        text-align: right;\n",
       "    }\n",
       "\n",
       "    .dataframe thead th {\n",
       "        text-align: left;\n",
       "    }\n",
       "\n",
       "    .dataframe tbody tr th {\n",
       "        vertical-align: top;\n",
       "    }\n",
       "</style>\n",
       "<table border=\"1\" class=\"dataframe\">\n",
       "  <thead>\n",
       "    <tr style=\"text-align: right;\">\n",
       "      <th></th>\n",
       "      <th>Unnamed: 0</th>\n",
       "      <th>unit_id</th>\n",
       "      <th>gender</th>\n",
       "      <th>gender_confidence</th>\n",
       "      <th>fav_number</th>\n",
       "      <th>profileimage</th>\n",
       "      <th>retweet_count</th>\n",
       "      <th>tweet_coord</th>\n",
       "      <th>tweet_count</th>\n",
       "      <th>tweet_created</th>\n",
       "      <th>...</th>\n",
       "      <th>fav_percent</th>\n",
       "      <th>fav_pop1000</th>\n",
       "      <th>text_sentiment</th>\n",
       "      <th>descriptionv1</th>\n",
       "      <th>decriptionv2</th>\n",
       "      <th>descriptionv3</th>\n",
       "      <th>descriptionv4</th>\n",
       "      <th>descriptionv5</th>\n",
       "      <th>descriptionv6</th>\n",
       "      <th>descriptionv7</th>\n",
       "    </tr>\n",
       "  </thead>\n",
       "  <tbody>\n",
       "    <tr>\n",
       "      <th>0</th>\n",
       "      <td>0</td>\n",
       "      <td>815719226</td>\n",
       "      <td>male</td>\n",
       "      <td>1.0000</td>\n",
       "      <td>0</td>\n",
       "      <td>https://pbs.twimg.com/profile_images/414342229...</td>\n",
       "      <td>0</td>\n",
       "      <td>NaN</td>\n",
       "      <td>110964</td>\n",
       "      <td>10/26/15 12:40</td>\n",
       "      <td>...</td>\n",
       "      <td>0.000000</td>\n",
       "      <td>0</td>\n",
       "      <td>0.800000</td>\n",
       "      <td>0.178497</td>\n",
       "      <td>0.260053</td>\n",
       "      <td>0.065201</td>\n",
       "      <td>0.370167</td>\n",
       "      <td>-0.537590</td>\n",
       "      <td>0.048419</td>\n",
       "      <td>0.061480</td>\n",
       "    </tr>\n",
       "    <tr>\n",
       "      <th>1</th>\n",
       "      <td>1</td>\n",
       "      <td>815719227</td>\n",
       "      <td>male</td>\n",
       "      <td>1.0000</td>\n",
       "      <td>68</td>\n",
       "      <td>https://pbs.twimg.com/profile_images/539604221...</td>\n",
       "      <td>0</td>\n",
       "      <td>NaN</td>\n",
       "      <td>7471</td>\n",
       "      <td>10/26/15 12:40</td>\n",
       "      <td>...</td>\n",
       "      <td>0.000077</td>\n",
       "      <td>0</td>\n",
       "      <td>0.136364</td>\n",
       "      <td>0.081630</td>\n",
       "      <td>-0.096244</td>\n",
       "      <td>0.006396</td>\n",
       "      <td>0.069474</td>\n",
       "      <td>-0.069121</td>\n",
       "      <td>0.204931</td>\n",
       "      <td>-0.201515</td>\n",
       "    </tr>\n",
       "    <tr>\n",
       "      <th>2</th>\n",
       "      <td>2</td>\n",
       "      <td>815719228</td>\n",
       "      <td>male</td>\n",
       "      <td>0.6625</td>\n",
       "      <td>7696</td>\n",
       "      <td>https://pbs.twimg.com/profile_images/657330418...</td>\n",
       "      <td>1</td>\n",
       "      <td>NaN</td>\n",
       "      <td>5617</td>\n",
       "      <td>10/26/15 12:40</td>\n",
       "      <td>...</td>\n",
       "      <td>0.008759</td>\n",
       "      <td>9</td>\n",
       "      <td>0.204167</td>\n",
       "      <td>0.083748</td>\n",
       "      <td>-0.039433</td>\n",
       "      <td>0.014055</td>\n",
       "      <td>0.059679</td>\n",
       "      <td>-0.073077</td>\n",
       "      <td>0.180050</td>\n",
       "      <td>-0.018025</td>\n",
       "    </tr>\n",
       "  </tbody>\n",
       "</table>\n",
       "<p>3 rows × 45 columns</p>\n",
       "</div>"
      ],
      "text/plain": [
       "   Unnamed: 0    unit_id gender  gender_confidence  fav_number  \\\n",
       "0           0  815719226   male             1.0000           0   \n",
       "1           1  815719227   male             1.0000          68   \n",
       "2           2  815719228   male             0.6625        7696   \n",
       "\n",
       "                                        profileimage  retweet_count  \\\n",
       "0  https://pbs.twimg.com/profile_images/414342229...              0   \n",
       "1  https://pbs.twimg.com/profile_images/539604221...              0   \n",
       "2  https://pbs.twimg.com/profile_images/657330418...              1   \n",
       "\n",
       "  tweet_coord  tweet_count   tweet_created      ...        fav_percent  \\\n",
       "0         NaN       110964  10/26/15 12:40      ...           0.000000   \n",
       "1         NaN         7471  10/26/15 12:40      ...           0.000077   \n",
       "2         NaN         5617  10/26/15 12:40      ...           0.008759   \n",
       "\n",
       "  fav_pop1000 text_sentiment descriptionv1  decriptionv2  descriptionv3  \\\n",
       "0           0       0.800000      0.178497      0.260053       0.065201   \n",
       "1           0       0.136364      0.081630     -0.096244       0.006396   \n",
       "2           9       0.204167      0.083748     -0.039433       0.014055   \n",
       "\n",
       "   descriptionv4  descriptionv5  descriptionv6  descriptionv7  \n",
       "0       0.370167      -0.537590       0.048419       0.061480  \n",
       "1       0.069474      -0.069121       0.204931      -0.201515  \n",
       "2       0.059679      -0.073077       0.180050      -0.018025  \n",
       "\n",
       "[3 rows x 45 columns]"
      ]
     },
     "execution_count": 136,
     "metadata": {},
     "output_type": "execute_result"
    }
   ],
   "source": [
    "# craete word vectors for description of user\n",
    "\n",
    "gender_description_df11 = gender_exp_df.loc[:,['unit_id','clean_description']].astype(str) # select unit_id and text_clean\n",
    "\n",
    "# create pyspark dataframe\n",
    "spark_description_df11 = spark.createDataFrame(gender_description_df11)\n",
    "\n",
    "# tokenise the words\n",
    "\n",
    "descr_tokenizer = Tokenizer(inputCol=\"clean_description\", outputCol=\"descr_words\")\n",
    "descr_wordsData = descr_tokenizer.transform(spark_description_df11)\n",
    "\n",
    "\n",
    "# Learn a mapping from words to Vectors.\n",
    "\n",
    "descr_word2Vec = Word2Vec(vectorSize=7, minCount=0, inputCol=\"descr_words\", outputCol=\"descr_result\")\n",
    "\n",
    "descr_model = descr_word2Vec.fit(descr_wordsData)\n",
    "\n",
    "descr_transform = descr_model.transform(descr_wordsData)\n",
    "\n",
    "\n",
    "# change to pandas dataframe and merge to major dataframe\n",
    "\n",
    "descr_result_df2 = descr_transform.toPandas()\n",
    "# convert result to list then a dataframe\n",
    "\n",
    "Descrresult = descr_result_df2['descr_result'].tolist()   # convert to python list\n",
    "\n",
    "descrresult_pd_df = pd.DataFrame(Descrresult, columns=['descriptionv1', 'decriptionv2', 'descriptionv3', 'descriptionv4', 'descriptionv5', 'descriptionv6', 'descriptionv7'], index = range(20050)) # to datafram\n",
    "\n",
    "# merge to gender_exp_df dataframe\n",
    "\n",
    "gender_exp_df12 = pd.concat([gender_exp_df, descrresult_pd_df], axis=1)\n",
    "\n",
    "gender_exp_df12.head(3)\n"
   ]
  },
  {
   "cell_type": "code",
   "execution_count": 137,
   "metadata": {},
   "outputs": [
    {
     "name": "stdout",
     "output_type": "stream",
     "text": [
      "<class 'pandas.core.frame.DataFrame'>\n",
      "RangeIndex: 20050 entries, 0 to 20049\n",
      "Data columns (total 45 columns):\n",
      "Unnamed: 0             20050 non-null int64\n",
      "unit_id                20050 non-null int64\n",
      "gender                 19953 non-null object\n",
      "gender_confidence      20024 non-null float64\n",
      "fav_number             20050 non-null int64\n",
      "profileimage           20050 non-null object\n",
      "retweet_count          20050 non-null int64\n",
      "tweet_coord            159 non-null object\n",
      "tweet_count            20050 non-null int64\n",
      "tweet_created          20050 non-null object\n",
      "tweet_id               20050 non-null float64\n",
      "text_clean             20050 non-null object\n",
      "clean_description      19892 non-null object\n",
      "name_last3word         20033 non-null object\n",
      "name_count             20050 non-null int64\n",
      "linkcolor_red          20050 non-null int64\n",
      "linkcolor_green        20050 non-null int64\n",
      "linkcolor_blue         20050 non-null int64\n",
      "sidebar_red            20050 non-null int64\n",
      "sidebar_green          20050 non-null int64\n",
      "sidebar_blue           20050 non-null int64\n",
      "namevec1               20050 non-null float64\n",
      "namevec2               20050 non-null float64\n",
      "namevec3               20050 non-null float64\n",
      "tzvec1                 20050 non-null float64\n",
      "tzvec2                 20050 non-null float64\n",
      "tzvec3                 20050 non-null float64\n",
      "year                   20050 non-null int64\n",
      "month                  20050 non-null int64\n",
      "day                    20050 non-null int64\n",
      "hour                   20050 non-null int64\n",
      "second                 20050 non-null int64\n",
      "log_twcount            20050 non-null float64\n",
      "binarize_twcount       20050 non-null int64\n",
      "sk_binarize_twcount    20050 non-null int64\n",
      "fav_percent            20050 non-null float64\n",
      "fav_pop1000            20050 non-null int32\n",
      "text_sentiment         20050 non-null float64\n",
      "descriptionv1          20050 non-null float64\n",
      "decriptionv2           20050 non-null float64\n",
      "descriptionv3          20050 non-null float64\n",
      "descriptionv4          20050 non-null float64\n",
      "descriptionv5          20050 non-null float64\n",
      "descriptionv6          20050 non-null float64\n",
      "descriptionv7          20050 non-null float64\n",
      "dtypes: float64(18), int32(1), int64(19), object(7)\n",
      "memory usage: 6.8+ MB\n"
     ]
    }
   ],
   "source": [
    "# check all extracted features in the data frame and concatenate any missing feature\n",
    "\n",
    "gender_exp_df12. info()\n",
    "\n",
    "\n",
    "# save the data after feature extraction\n"
   ]
  },
  {
   "cell_type": "code",
   "execution_count": 138,
   "metadata": {},
   "outputs": [
    {
     "data": {
      "text/plain": [
       "4189"
      ]
     },
     "execution_count": 138,
     "metadata": {},
     "output_type": "execute_result"
    }
   ],
   "source": [
    "# Encoding to name_last3word\n",
    "\n",
    "gender_exp_df12.name_last3word.nunique()  # number of unique values"
   ]
  },
  {
   "cell_type": "code",
   "execution_count": 139,
   "metadata": {},
   "outputs": [
    {
     "name": "stdout",
     "output_type": "stream",
     "text": [
      "+---------+--------------+\n",
      "|  unit_id|name_last3word|\n",
      "+---------+--------------+\n",
      "|815719226|           ezy|\n",
      "|815719227|           ett|\n",
      "+---------+--------------+\n",
      "only showing top 2 rows\n",
      "\n"
     ]
    }
   ],
   "source": [
    "# create spark dataframe\n",
    "\n",
    "gender_3word_df = gender_exp_df12.loc[:,['unit_id','name_last3word']].astype(str) # select unit_id and name_last3word\n",
    "\n",
    "# create pyspark dataframe\n",
    "spark_3word_df = spark.createDataFrame(gender_3word_df)\n",
    "\n",
    "spark_3word_df.show(n=2)"
   ]
  },
  {
   "cell_type": "code",
   "execution_count": 140,
   "metadata": {},
   "outputs": [
    {
     "name": "stdout",
     "output_type": "stream",
     "text": [
      "+---------+--------------+---------------+\n",
      "|  unit_id|name_last3word|last3word_index|\n",
      "+---------+--------------+---------------+\n",
      "|815719226|           ezy|          332.0|\n",
      "|815719227|           ett|          132.0|\n",
      "|815719228|           ugh|          480.0|\n",
      "|815719229|           and|           91.0|\n",
      "|815719230|           mma|         1477.0|\n",
      "|815719231|           ous|          105.0|\n",
      "|815719232|           ock|          114.0|\n",
      "+---------+--------------+---------------+\n",
      "only showing top 7 rows\n",
      "\n"
     ]
    }
   ],
   "source": [
    "#  fill missing values and stringindexer name_last2word\n",
    "\n",
    "from pyspark.ml.feature import StringIndexer\n",
    "\n",
    "last3word_indexer = StringIndexer(inputCol=\"name_last3word\",outputCol=\"last3word_index\")\n",
    "\n",
    "last3word_indexed = last3word_indexer.fit(spark_3word_df).transform(spark_3word_df)\n",
    "\n",
    "last3word_indexed.show(7)\n",
    "\n"
   ]
  },
  {
   "cell_type": "code",
   "execution_count": 141,
   "metadata": {},
   "outputs": [
    {
     "name": "stdout",
     "output_type": "stream",
     "text": [
      "+--------------+---------------+-------------------+\n",
      "|name_last3word|last3word_index|      last3word_vec|\n",
      "+--------------+---------------+-------------------+\n",
      "|           ezy|          332.0| (4190,[332],[1.0])|\n",
      "|           ett|          132.0| (4190,[132],[1.0])|\n",
      "|           ugh|          480.0| (4190,[480],[1.0])|\n",
      "|           and|           91.0|  (4190,[91],[1.0])|\n",
      "|           mma|         1477.0|(4190,[1477],[1.0])|\n",
      "|           ous|          105.0| (4190,[105],[1.0])|\n",
      "|           ock|          114.0| (4190,[114],[1.0])|\n",
      "+--------------+---------------+-------------------+\n",
      "only showing top 7 rows\n",
      "\n"
     ]
    }
   ],
   "source": [
    "# one hot encoder from output of stringIndexer\n",
    "last3word_df_onehot = spark_3word_df.select(\"name_last3word\")\n",
    "\n",
    "from pyspark.ml.feature import OneHotEncoder, StringIndexer\n",
    "\n",
    "stringIndexer = StringIndexer(inputCol=\"name_last3word\", outputCol=\"last3word_index\")\n",
    "model = stringIndexer.fit(last3word_df_onehot)\n",
    "indexed = model.transform(last3word_df_onehot)\n",
    "encoder = OneHotEncoder(dropLast=False, inputCol=\"last3word_index\", outputCol=\"last3word_vec\")\n",
    "encoded = encoder.transform(indexed)\n",
    "\n",
    "encoded.show(7)\n"
   ]
  },
  {
   "cell_type": "code",
   "execution_count": 142,
   "metadata": {},
   "outputs": [
    {
     "name": "stdout",
     "output_type": "stream",
     "text": [
      "Row(name_last3word='ezy', last3word_index=332.0, last3word_vec=SparseVector(4190, {332: 1.0}))\n",
      "Row(name_last3word='ett', last3word_index=132.0, last3word_vec=SparseVector(4190, {132: 1.0}))\n"
     ]
    }
   ],
   "source": [
    "# show only 2 rows\n",
    "\n",
    "for row in encoded.take(2):\n",
    "    print(row)"
   ]
  },
  {
   "cell_type": "code",
   "execution_count": 143,
   "metadata": {},
   "outputs": [
    {
     "data": {
      "text/html": [
       "<div>\n",
       "<style>\n",
       "    .dataframe thead tr:only-child th {\n",
       "        text-align: right;\n",
       "    }\n",
       "\n",
       "    .dataframe thead th {\n",
       "        text-align: left;\n",
       "    }\n",
       "\n",
       "    .dataframe tbody tr th {\n",
       "        vertical-align: top;\n",
       "    }\n",
       "</style>\n",
       "<table border=\"1\" class=\"dataframe\">\n",
       "  <thead>\n",
       "    <tr style=\"text-align: right;\">\n",
       "      <th></th>\n",
       "      <th>name_last3word</th>\n",
       "      <th>last3word_index</th>\n",
       "      <th>last3word_vec</th>\n",
       "    </tr>\n",
       "  </thead>\n",
       "  <tbody>\n",
       "    <tr>\n",
       "      <th>0</th>\n",
       "      <td>ezy</td>\n",
       "      <td>332.0</td>\n",
       "      <td>(0.0, 0.0, 0.0, 0.0, 0.0, 0.0, 0.0, 0.0, 0.0, ...</td>\n",
       "    </tr>\n",
       "    <tr>\n",
       "      <th>1</th>\n",
       "      <td>ett</td>\n",
       "      <td>132.0</td>\n",
       "      <td>(0.0, 0.0, 0.0, 0.0, 0.0, 0.0, 0.0, 0.0, 0.0, ...</td>\n",
       "    </tr>\n",
       "    <tr>\n",
       "      <th>2</th>\n",
       "      <td>ugh</td>\n",
       "      <td>480.0</td>\n",
       "      <td>(0.0, 0.0, 0.0, 0.0, 0.0, 0.0, 0.0, 0.0, 0.0, ...</td>\n",
       "    </tr>\n",
       "  </tbody>\n",
       "</table>\n",
       "</div>"
      ],
      "text/plain": [
       "  name_last3word  last3word_index  \\\n",
       "0            ezy            332.0   \n",
       "1            ett            132.0   \n",
       "2            ugh            480.0   \n",
       "\n",
       "                                       last3word_vec  \n",
       "0  (0.0, 0.0, 0.0, 0.0, 0.0, 0.0, 0.0, 0.0, 0.0, ...  \n",
       "1  (0.0, 0.0, 0.0, 0.0, 0.0, 0.0, 0.0, 0.0, 0.0, ...  \n",
       "2  (0.0, 0.0, 0.0, 0.0, 0.0, 0.0, 0.0, 0.0, 0.0, ...  "
      ]
     },
     "execution_count": 143,
     "metadata": {},
     "output_type": "execute_result"
    }
   ],
   "source": [
    "# change to pandas dataframe and merge to major dataframe\n",
    "\n",
    "last3word_encoded_df = encoded.toPandas()\n",
    "\n",
    "last3word_encoded_df.head(3)"
   ]
  },
  {
   "cell_type": "code",
   "execution_count": 144,
   "metadata": {},
   "outputs": [
    {
     "data": {
      "text/plain": [
       "0    (0.0, 0.0, 0.0, 0.0, 0.0, 0.0, 0.0, 0.0, 0.0, ...\n",
       "1    (0.0, 0.0, 0.0, 0.0, 0.0, 0.0, 0.0, 0.0, 0.0, ...\n",
       "2    (0.0, 0.0, 0.0, 0.0, 0.0, 0.0, 0.0, 0.0, 0.0, ...\n",
       "Name: last3word_vec, dtype: object"
      ]
     },
     "execution_count": 144,
     "metadata": {},
     "output_type": "execute_result"
    }
   ],
   "source": [
    "last3word_encoded_df.last3word_vec.head(3)"
   ]
  },
  {
   "cell_type": "code",
   "execution_count": 145,
   "metadata": {},
   "outputs": [
    {
     "data": {
      "text/plain": [
       "'from sklearn.preprocessing import LabelBinarizer\\n\\nlb_style = LabelBinarizer()\\nlb_results = lb_style.fit_transform(obj_df[\"body_style\"])\\npd.DataFrame(lb_results, columns=lb_style.classes_).head()\\n'"
      ]
     },
     "execution_count": 145,
     "metadata": {},
     "output_type": "execute_result"
    }
   ],
   "source": [
    "'''from sklearn.preprocessing import LabelBinarizer\n",
    "\n",
    "lb_style = LabelBinarizer()\n",
    "lb_results = lb_style.fit_transform(obj_df[\"body_style\"])\n",
    "pd.DataFrame(lb_results, columns=lb_style.classes_).head()\n",
    "'''"
   ]
  },
  {
   "cell_type": "code",
   "execution_count": 146,
   "metadata": {},
   "outputs": [],
   "source": [
    "import re\n",
    "\n",
    "gender_exp_df12a = gender_exp_df12.copy()\n",
    "gender_exp_df12a.name_last3word = gender_exp_df12.name_last3word.astype(str)\n",
    "\n",
    "gender_exp_df12a['name_last3word'] = gender_exp_df12a['name_last3word'].apply(lambda x: re.sub(r\"[^a-zA-Z0-9]\",\"\",x))\n",
    "gender_exp_df12a.name_last3word = gender_exp_df12a.name_last3word.str.replace('<', '')  # replace ! character.\n",
    "\n",
    "'''fill NaN values in the description column with missing '''\n",
    "\n",
    "gender_exp_df12a.name_last3word = gender_exp_df12a.name_last3word.fillna('mis')  # fill missing values with 'mis\n",
    "\n"
   ]
  },
  {
   "cell_type": "code",
   "execution_count": 147,
   "metadata": {},
   "outputs": [
    {
     "data": {
      "text/html": [
       "<div>\n",
       "<style>\n",
       "    .dataframe thead tr:only-child th {\n",
       "        text-align: right;\n",
       "    }\n",
       "\n",
       "    .dataframe thead th {\n",
       "        text-align: left;\n",
       "    }\n",
       "\n",
       "    .dataframe tbody tr th {\n",
       "        vertical-align: top;\n",
       "    }\n",
       "</style>\n",
       "<table border=\"1\" class=\"dataframe\">\n",
       "  <thead>\n",
       "    <tr style=\"text-align: right;\">\n",
       "      <th></th>\n",
       "      <th>last3word_code</th>\n",
       "      <th>name_last3word</th>\n",
       "    </tr>\n",
       "  </thead>\n",
       "  <tbody>\n",
       "    <tr>\n",
       "      <th>0</th>\n",
       "      <td>1085</td>\n",
       "      <td>ezy</td>\n",
       "    </tr>\n",
       "    <tr>\n",
       "      <th>1</th>\n",
       "      <td>1020</td>\n",
       "      <td>ett</td>\n",
       "    </tr>\n",
       "    <tr>\n",
       "      <th>2</th>\n",
       "      <td>3638</td>\n",
       "      <td>ugh</td>\n",
       "    </tr>\n",
       "    <tr>\n",
       "      <th>3</th>\n",
       "      <td>182</td>\n",
       "      <td>and</td>\n",
       "    </tr>\n",
       "    <tr>\n",
       "      <th>4</th>\n",
       "      <td>2185</td>\n",
       "      <td>mma</td>\n",
       "    </tr>\n",
       "    <tr>\n",
       "      <th>5</th>\n",
       "      <td>2745</td>\n",
       "      <td>ous</td>\n",
       "    </tr>\n",
       "    <tr>\n",
       "      <th>6</th>\n",
       "      <td>2552</td>\n",
       "      <td>ock</td>\n",
       "    </tr>\n",
       "    <tr>\n",
       "      <th>7</th>\n",
       "      <td>3263</td>\n",
       "      <td>ske</td>\n",
       "    </tr>\n",
       "    <tr>\n",
       "      <th>8</th>\n",
       "      <td>1981</td>\n",
       "      <td>lla</td>\n",
       "    </tr>\n",
       "    <tr>\n",
       "      <th>9</th>\n",
       "      <td>1322</td>\n",
       "      <td>her</td>\n",
       "    </tr>\n",
       "    <tr>\n",
       "      <th>10</th>\n",
       "      <td>264</td>\n",
       "      <td>ats</td>\n",
       "    </tr>\n",
       "  </tbody>\n",
       "</table>\n",
       "</div>"
      ],
      "text/plain": [
       "    last3word_code name_last3word\n",
       "0             1085            ezy\n",
       "1             1020            ett\n",
       "2             3638            ugh\n",
       "3              182            and\n",
       "4             2185            mma\n",
       "5             2745            ous\n",
       "6             2552            ock\n",
       "7             3263            ske\n",
       "8             1981            lla\n",
       "9             1322            her\n",
       "10             264            ats"
      ]
     },
     "execution_count": 147,
     "metadata": {},
     "output_type": "execute_result"
    }
   ],
   "source": [
    "from sklearn.preprocessing import LabelEncoder\n",
    "\n",
    "le = LabelEncoder()\n",
    "\n",
    "gender_exp_df12a['last3word_code'] = le.fit_transform(gender_exp_df12a['name_last3word'])\n",
    "\n",
    "gender_exp_df12a[[\"last3word_code\", \"name_last3word\"]].head(11)"
   ]
  },
  {
   "cell_type": "code",
   "execution_count": 212,
   "metadata": {},
   "outputs": [
    {
     "data": {
      "text/html": [
       "<div>\n",
       "<style>\n",
       "    .dataframe thead tr:only-child th {\n",
       "        text-align: right;\n",
       "    }\n",
       "\n",
       "    .dataframe thead th {\n",
       "        text-align: left;\n",
       "    }\n",
       "\n",
       "    .dataframe tbody tr th {\n",
       "        vertical-align: top;\n",
       "    }\n",
       "</style>\n",
       "<table border=\"1\" class=\"dataframe\">\n",
       "  <thead>\n",
       "    <tr style=\"text-align: right;\">\n",
       "      <th></th>\n",
       "      <th>Unnamed: 0</th>\n",
       "      <th>unit_id</th>\n",
       "      <th>gender</th>\n",
       "      <th>gender_confidence</th>\n",
       "      <th>fav_number</th>\n",
       "      <th>profileimage</th>\n",
       "      <th>retweet_count</th>\n",
       "      <th>tweet_coord</th>\n",
       "      <th>tweet_count</th>\n",
       "      <th>tweet_created</th>\n",
       "      <th>...</th>\n",
       "      <th>dshastags</th>\n",
       "      <th>dsnumerics</th>\n",
       "      <th>dsupper</th>\n",
       "      <th>txword_count</th>\n",
       "      <th>txchar_count</th>\n",
       "      <th>txavg_word</th>\n",
       "      <th>txstopwords</th>\n",
       "      <th>txhastags</th>\n",
       "      <th>txnumerics</th>\n",
       "      <th>txupper</th>\n",
       "    </tr>\n",
       "  </thead>\n",
       "  <tbody>\n",
       "    <tr>\n",
       "      <th>0</th>\n",
       "      <td>0</td>\n",
       "      <td>815719226</td>\n",
       "      <td>male</td>\n",
       "      <td>1.0000</td>\n",
       "      <td>0</td>\n",
       "      <td>https://pbs.twimg.com/profile_images/414342229...</td>\n",
       "      <td>0</td>\n",
       "      <td>NaN</td>\n",
       "      <td>110964</td>\n",
       "      <td>10/26/15 12:40</td>\n",
       "      <td>...</td>\n",
       "      <td>0</td>\n",
       "      <td>0</td>\n",
       "      <td>0</td>\n",
       "      <td>14</td>\n",
       "      <td>109</td>\n",
       "      <td>6.857143</td>\n",
       "      <td>0</td>\n",
       "      <td>1</td>\n",
       "      <td>0</td>\n",
       "      <td>1</td>\n",
       "    </tr>\n",
       "    <tr>\n",
       "      <th>1</th>\n",
       "      <td>1</td>\n",
       "      <td>815719227</td>\n",
       "      <td>male</td>\n",
       "      <td>1.0000</td>\n",
       "      <td>68</td>\n",
       "      <td>https://pbs.twimg.com/profile_images/539604221...</td>\n",
       "      <td>0</td>\n",
       "      <td>NaN</td>\n",
       "      <td>7471</td>\n",
       "      <td>10/26/15 12:40</td>\n",
       "      <td>...</td>\n",
       "      <td>0</td>\n",
       "      <td>0</td>\n",
       "      <td>0</td>\n",
       "      <td>19</td>\n",
       "      <td>139</td>\n",
       "      <td>6.368421</td>\n",
       "      <td>7</td>\n",
       "      <td>2</td>\n",
       "      <td>0</td>\n",
       "      <td>2</td>\n",
       "    </tr>\n",
       "    <tr>\n",
       "      <th>2</th>\n",
       "      <td>2</td>\n",
       "      <td>815719228</td>\n",
       "      <td>male</td>\n",
       "      <td>0.6625</td>\n",
       "      <td>7696</td>\n",
       "      <td>https://pbs.twimg.com/profile_images/657330418...</td>\n",
       "      <td>1</td>\n",
       "      <td>NaN</td>\n",
       "      <td>5617</td>\n",
       "      <td>10/26/15 12:40</td>\n",
       "      <td>...</td>\n",
       "      <td>0</td>\n",
       "      <td>0</td>\n",
       "      <td>0</td>\n",
       "      <td>16</td>\n",
       "      <td>80</td>\n",
       "      <td>4.062500</td>\n",
       "      <td>7</td>\n",
       "      <td>0</td>\n",
       "      <td>0</td>\n",
       "      <td>0</td>\n",
       "    </tr>\n",
       "  </tbody>\n",
       "</table>\n",
       "<p>3 rows × 60 columns</p>\n",
       "</div>"
      ],
      "text/plain": [
       "   Unnamed: 0    unit_id gender  gender_confidence  fav_number  \\\n",
       "0           0  815719226   male             1.0000           0   \n",
       "1           1  815719227   male             1.0000          68   \n",
       "2           2  815719228   male             0.6625        7696   \n",
       "\n",
       "                                        profileimage  retweet_count  \\\n",
       "0  https://pbs.twimg.com/profile_images/414342229...              0   \n",
       "1  https://pbs.twimg.com/profile_images/539604221...              0   \n",
       "2  https://pbs.twimg.com/profile_images/657330418...              1   \n",
       "\n",
       "  tweet_coord  tweet_count   tweet_created   ...     dshastags dsnumerics  \\\n",
       "0         NaN       110964  10/26/15 12:40   ...             0          0   \n",
       "1         NaN         7471  10/26/15 12:40   ...             0          0   \n",
       "2         NaN         5617  10/26/15 12:40   ...             0          0   \n",
       "\n",
       "  dsupper txword_count  txchar_count  txavg_word  txstopwords  txhastags  \\\n",
       "0       0           14           109    6.857143            0          1   \n",
       "1       0           19           139    6.368421            7          2   \n",
       "2       0           16            80    4.062500            7          0   \n",
       "\n",
       "   txnumerics  txupper  \n",
       "0           0        1  \n",
       "1           0        2  \n",
       "2           0        0  \n",
       "\n",
       "[3 rows x 60 columns]"
      ]
     },
     "execution_count": 212,
     "metadata": {},
     "output_type": "execute_result"
    }
   ],
   "source": [
    "# concatenate dataframes for full features extracted\n",
    "\n",
    "gender_feature_df = gender_exp_df12a.copy()\n",
    "\n",
    "gender_extract_df.index=range(20050)\n",
    "\n",
    "\n",
    "gender_feature_df = pd.concat([gender_feature_df,gender_extract_df ], axis=1)\n",
    "\n",
    "\n",
    "gender_feature_df['text_sentiment'] = gender_exp_df['text_sentiment'].astype(str)\n",
    "\n",
    "gender_feature_df.head(3)"
   ]
  },
  {
   "cell_type": "code",
   "execution_count": 213,
   "metadata": {},
   "outputs": [
    {
     "data": {
      "text/plain": [
       "count    20024.000000\n",
       "mean         0.882756\n",
       "std          0.191403\n",
       "min          0.000000\n",
       "25%          0.677800\n",
       "50%          1.000000\n",
       "75%          1.000000\n",
       "max          1.000000\n",
       "Name: gender_confidence, dtype: float64"
      ]
     },
     "execution_count": 213,
     "metadata": {},
     "output_type": "execute_result"
    }
   ],
   "source": [
    "gender_feature_df.gender_confidence.describe()"
   ]
  },
  {
   "cell_type": "code",
   "execution_count": 214,
   "metadata": {},
   "outputs": [
    {
     "data": {
      "text/plain": [
       "26"
      ]
     },
     "execution_count": 214,
     "metadata": {},
     "output_type": "execute_result"
    }
   ],
   "source": [
    "gender_feature_df['gender_confidence'].isnull().sum()"
   ]
  },
  {
   "cell_type": "code",
   "execution_count": 215,
   "metadata": {},
   "outputs": [
    {
     "data": {
      "text/plain": [
       "0"
      ]
     },
     "execution_count": 215,
     "metadata": {},
     "output_type": "execute_result"
    }
   ],
   "source": [
    "# column gender_confidence\n",
    "\n",
    "# the column 'gender_confidence' contains NaN values. Replace with mean\n",
    "\n",
    "gender_feature2_df = gender_feature_df.copy()\n",
    "\n",
    "gender_feature2_df['gender_confidence'] = gender_feature_df['gender_confidence'].fillna(0.882756)\n",
    "\n",
    "gender_feature2_df['gender_confidence'].isnull().sum()"
   ]
  },
  {
   "cell_type": "code",
   "execution_count": 217,
   "metadata": {},
   "outputs": [
    {
     "data": {
      "text/plain": [
       "(20050, 60)"
      ]
     },
     "execution_count": 217,
     "metadata": {},
     "output_type": "execute_result"
    }
   ],
   "source": [
    "gender_feature_df.shape"
   ]
  },
  {
   "cell_type": "code",
   "execution_count": 218,
   "metadata": {},
   "outputs": [
    {
     "data": {
      "text/plain": [
       "female     6700\n",
       "male       6194\n",
       "brand      5942\n",
       "unknown    1117\n",
       "NaN          97\n",
       "Name: gender, dtype: int64"
      ]
     },
     "execution_count": 218,
     "metadata": {},
     "output_type": "execute_result"
    }
   ],
   "source": [
    "# gender variable\n",
    "\n",
    "gender_feature2_df['gender'].value_counts(dropna=False)"
   ]
  },
  {
   "cell_type": "code",
   "execution_count": 197,
   "metadata": {},
   "outputs": [],
   "source": [
    "# save to diac\n",
    "\n",
    "gender_feature2_df.to_csv(\"C:/Users/yasser/Desktop/Apps/hellosoda/data/gender_feature2_df.csv\")"
   ]
  },
  {
   "cell_type": "code",
   "execution_count": 152,
   "metadata": {},
   "outputs": [],
   "source": [
    "# Transforming gender column using label coding. This is the target variable and is categorical. There are three levels\n",
    "# of nominal values. These are male, female and brand. There is also the twitter users without label NaN and unknown values.\n",
    "\n",
    "# The data without label will be selected for validation of the model or generation evaluation\n",
    "\n",
    "# The data with gender label will be used for model training and cross validation\n",
    "\n",
    "# gender is the target variable."
   ]
  },
  {
   "cell_type": "code",
   "execution_count": 219,
   "metadata": {},
   "outputs": [
    {
     "data": {
      "text/plain": [
       "(female    6700\n",
       " male      6194\n",
       " brand     5942\n",
       " NaN       1214\n",
       " Name: gender, dtype: int64, (18836, 59))"
      ]
     },
     "execution_count": 219,
     "metadata": {},
     "output_type": "execute_result"
    }
   ],
   "source": [
    "gender_feature_df1 = gender_feature2_df.copy()\n",
    "\n",
    "# change unknown to NAN\n",
    "gender_feature_df1['gender'] = gender_feature2_df['gender'].replace('unknown', np.nan)\n",
    "\n",
    "gender_feature_df1['gender'].value_counts(dropna=False), gender_model_df.shape"
   ]
  },
  {
   "cell_type": "code",
   "execution_count": 220,
   "metadata": {},
   "outputs": [
    {
     "data": {
      "text/plain": [
       "((18836, 59), (1214, 59))"
      ]
     },
     "execution_count": 220,
     "metadata": {},
     "output_type": "execute_result"
    }
   ],
   "source": [
    "gender_model_df = gender_feature_df1.copy()\n",
    "\n",
    "gender_model_df = gender_feature_df1.dropna(axis=0, subset=['gender']) #labelled model data set\n",
    "\n",
    "gender_model_df = gender_model_df.iloc[:,1:60]     #drop column 0 Unnamed\n",
    "\n",
    "gender_validation_df = gender_feature_df1[gender_feature_df1['gender'].isnull()] #unlabelled validation data\n",
    "\n",
    "gender_validation_df = gender_validation_df.iloc[:, 1:60] #drop the column 0 Unammed\n",
    "\n",
    "gender_model_df.shape, gender_validation_df.shape\n"
   ]
  },
  {
   "cell_type": "code",
   "execution_count": 221,
   "metadata": {},
   "outputs": [
    {
     "name": "stdout",
     "output_type": "stream",
     "text": [
      "<class 'pandas.core.frame.DataFrame'>\n",
      "Int64Index: 18836 entries, 0 to 20049\n",
      "Data columns (total 59 columns):\n",
      "unit_id                18836 non-null int64\n",
      "gender                 18836 non-null object\n",
      "gender_confidence      18836 non-null float64\n",
      "fav_number             18836 non-null int64\n",
      "profileimage           18836 non-null object\n",
      "retweet_count          18836 non-null int64\n",
      "tweet_coord            157 non-null object\n",
      "tweet_count            18836 non-null int64\n",
      "tweet_created          18836 non-null object\n",
      "tweet_id               18836 non-null float64\n",
      "text_clean             18836 non-null object\n",
      "clean_description      18696 non-null object\n",
      "name_last3word         18836 non-null object\n",
      "name_count             18836 non-null int64\n",
      "linkcolor_red          18836 non-null int64\n",
      "linkcolor_green        18836 non-null int64\n",
      "linkcolor_blue         18836 non-null int64\n",
      "sidebar_red            18836 non-null int64\n",
      "sidebar_green          18836 non-null int64\n",
      "sidebar_blue           18836 non-null int64\n",
      "namevec1               18836 non-null float64\n",
      "namevec2               18836 non-null float64\n",
      "namevec3               18836 non-null float64\n",
      "tzvec1                 18836 non-null float64\n",
      "tzvec2                 18836 non-null float64\n",
      "tzvec3                 18836 non-null float64\n",
      "year                   18836 non-null int64\n",
      "month                  18836 non-null int64\n",
      "day                    18836 non-null int64\n",
      "hour                   18836 non-null int64\n",
      "second                 18836 non-null int64\n",
      "log_twcount            18836 non-null float64\n",
      "binarize_twcount       18836 non-null int64\n",
      "sk_binarize_twcount    18836 non-null int64\n",
      "fav_percent            18836 non-null float64\n",
      "fav_pop1000            18836 non-null int32\n",
      "text_sentiment         18836 non-null object\n",
      "descriptionv1          18836 non-null float64\n",
      "decriptionv2           18836 non-null float64\n",
      "descriptionv3          18836 non-null float64\n",
      "descriptionv4          18836 non-null float64\n",
      "descriptionv5          18836 non-null float64\n",
      "descriptionv6          18836 non-null float64\n",
      "descriptionv7          18836 non-null float64\n",
      "last3word_code         18836 non-null int32\n",
      "dsword_count           18836 non-null int64\n",
      "dschar_count           18836 non-null int64\n",
      "dsavg_word             18836 non-null float64\n",
      "dsstopwords            18836 non-null int64\n",
      "dshastags              18836 non-null int64\n",
      "dsnumerics             18836 non-null int64\n",
      "dsupper                18836 non-null int64\n",
      "txword_count           18836 non-null int64\n",
      "txchar_count           18836 non-null int64\n",
      "txavg_word             18836 non-null float64\n",
      "txstopwords            18836 non-null int64\n",
      "txhastags              18836 non-null int64\n",
      "txnumerics             18836 non-null int64\n",
      "txupper                18836 non-null int64\n",
      "dtypes: float64(19), int32(2), int64(30), object(8)\n",
      "memory usage: 8.5+ MB\n",
      "<class 'pandas.core.frame.DataFrame'>\n",
      "Int64Index: 1214 entries, 19 to 19986\n",
      "Data columns (total 59 columns):\n",
      "unit_id                1214 non-null int64\n",
      "gender                 0 non-null object\n",
      "gender_confidence      1214 non-null float64\n",
      "fav_number             1214 non-null int64\n",
      "profileimage           1214 non-null object\n",
      "retweet_count          1214 non-null int64\n",
      "tweet_coord            2 non-null object\n",
      "tweet_count            1214 non-null int64\n",
      "tweet_created          1214 non-null object\n",
      "tweet_id               1214 non-null float64\n",
      "text_clean             1214 non-null object\n",
      "clean_description      1196 non-null object\n",
      "name_last3word         1214 non-null object\n",
      "name_count             1214 non-null int64\n",
      "linkcolor_red          1214 non-null int64\n",
      "linkcolor_green        1214 non-null int64\n",
      "linkcolor_blue         1214 non-null int64\n",
      "sidebar_red            1214 non-null int64\n",
      "sidebar_green          1214 non-null int64\n",
      "sidebar_blue           1214 non-null int64\n",
      "namevec1               1214 non-null float64\n",
      "namevec2               1214 non-null float64\n",
      "namevec3               1214 non-null float64\n",
      "tzvec1                 1214 non-null float64\n",
      "tzvec2                 1214 non-null float64\n",
      "tzvec3                 1214 non-null float64\n",
      "year                   1214 non-null int64\n",
      "month                  1214 non-null int64\n",
      "day                    1214 non-null int64\n",
      "hour                   1214 non-null int64\n",
      "second                 1214 non-null int64\n",
      "log_twcount            1214 non-null float64\n",
      "binarize_twcount       1214 non-null int64\n",
      "sk_binarize_twcount    1214 non-null int64\n",
      "fav_percent            1214 non-null float64\n",
      "fav_pop1000            1214 non-null int32\n",
      "text_sentiment         1214 non-null object\n",
      "descriptionv1          1214 non-null float64\n",
      "decriptionv2           1214 non-null float64\n",
      "descriptionv3          1214 non-null float64\n",
      "descriptionv4          1214 non-null float64\n",
      "descriptionv5          1214 non-null float64\n",
      "descriptionv6          1214 non-null float64\n",
      "descriptionv7          1214 non-null float64\n",
      "last3word_code         1214 non-null int32\n",
      "dsword_count           1214 non-null int64\n",
      "dschar_count           1214 non-null int64\n",
      "dsavg_word             1214 non-null float64\n",
      "dsstopwords            1214 non-null int64\n",
      "dshastags              1214 non-null int64\n",
      "dsnumerics             1214 non-null int64\n",
      "dsupper                1214 non-null int64\n",
      "txword_count           1214 non-null int64\n",
      "txchar_count           1214 non-null int64\n",
      "txavg_word             1214 non-null float64\n",
      "txstopwords            1214 non-null int64\n",
      "txhastags              1214 non-null int64\n",
      "txnumerics             1214 non-null int64\n",
      "txupper                1214 non-null int64\n",
      "dtypes: float64(19), int32(2), int64(30), object(8)\n",
      "memory usage: 559.6+ KB\n"
     ]
    },
    {
     "data": {
      "text/plain": [
       "(None, None)"
      ]
     },
     "execution_count": 221,
     "metadata": {},
     "output_type": "execute_result"
    }
   ],
   "source": [
    "gender_model_df.info(), gender_validation_df.info()"
   ]
  },
  {
   "cell_type": "code",
   "execution_count": 222,
   "metadata": {},
   "outputs": [
    {
     "data": {
      "text/plain": [
       "1    6700\n",
       "2    6194\n",
       "0    5942\n",
       "Name: gender_code, dtype: int64"
      ]
     },
     "execution_count": 222,
     "metadata": {},
     "output_type": "execute_result"
    }
   ],
   "source": [
    "# label encode gender categories in gender_model_df data using scikit-learn label encoder\n",
    "\n",
    "# label encoder for gender\n",
    "from sklearn.preprocessing import LabelEncoder\n",
    "\n",
    "gender_model_df1 = gender_model_df.copy()\n",
    "\n",
    "le_gen = LabelEncoder()\n",
    "\n",
    "gender_model_df1['gender_code'] = le_gen.fit_transform(gender_model_df1['gender'])\n",
    "\n",
    "gender_model_df1.gender_code.value_counts(dropna=False) \n"
   ]
  },
  {
   "cell_type": "code",
   "execution_count": 247,
   "metadata": {},
   "outputs": [
    {
     "data": {
      "text/plain": [
       "(13804, 60)"
      ]
     },
     "execution_count": 247,
     "metadata": {},
     "output_type": "execute_result"
    }
   ],
   "source": [
    "# The data for model training will be where gender_confidence = 1 and there is no NaN values in the gender column\n",
    "# using the dataframe gender_model_df1. This is based on the information in data dictionary which indicates\n",
    "# that gender is based on guess hence the confidence level of 1 is best for training a supervised model.\n",
    "\n",
    "gender_model_df2 = gender_model_df1.copy()\n",
    "\n",
    "gender_model_df2 = gender_model_df1[gender_model_df1['gender_confidence'] == 1]\n",
    "\n",
    "gender_model_df2.shape"
   ]
  },
  {
   "cell_type": "code",
   "execution_count": 248,
   "metadata": {},
   "outputs": [
    {
     "name": "stdout",
     "output_type": "stream",
     "text": [
      "<class 'pandas.core.frame.DataFrame'>\n",
      "Int64Index: 13804 entries, 0 to 20049\n",
      "Data columns (total 60 columns):\n",
      "unit_id                13804 non-null int64\n",
      "gender                 13804 non-null object\n",
      "gender_confidence      13804 non-null float64\n",
      "fav_number             13804 non-null int64\n",
      "profileimage           13804 non-null object\n",
      "retweet_count          13804 non-null int64\n",
      "tweet_coord            131 non-null object\n",
      "tweet_count            13804 non-null int64\n",
      "tweet_created          13804 non-null object\n",
      "tweet_id               13804 non-null float64\n",
      "text_clean             13804 non-null object\n",
      "clean_description      13703 non-null object\n",
      "name_last3word         13804 non-null object\n",
      "name_count             13804 non-null int64\n",
      "linkcolor_red          13804 non-null int64\n",
      "linkcolor_green        13804 non-null int64\n",
      "linkcolor_blue         13804 non-null int64\n",
      "sidebar_red            13804 non-null int64\n",
      "sidebar_green          13804 non-null int64\n",
      "sidebar_blue           13804 non-null int64\n",
      "namevec1               13804 non-null float64\n",
      "namevec2               13804 non-null float64\n",
      "namevec3               13804 non-null float64\n",
      "tzvec1                 13804 non-null float64\n",
      "tzvec2                 13804 non-null float64\n",
      "tzvec3                 13804 non-null float64\n",
      "year                   13804 non-null int64\n",
      "month                  13804 non-null int64\n",
      "day                    13804 non-null int64\n",
      "hour                   13804 non-null int64\n",
      "second                 13804 non-null int64\n",
      "log_twcount            13804 non-null float64\n",
      "binarize_twcount       13804 non-null int64\n",
      "sk_binarize_twcount    13804 non-null int64\n",
      "fav_percent            13804 non-null float64\n",
      "fav_pop1000            13804 non-null int32\n",
      "text_sentiment         13804 non-null object\n",
      "descriptionv1          13804 non-null float64\n",
      "decriptionv2           13804 non-null float64\n",
      "descriptionv3          13804 non-null float64\n",
      "descriptionv4          13804 non-null float64\n",
      "descriptionv5          13804 non-null float64\n",
      "descriptionv6          13804 non-null float64\n",
      "descriptionv7          13804 non-null float64\n",
      "last3word_code         13804 non-null int32\n",
      "dsword_count           13804 non-null int64\n",
      "dschar_count           13804 non-null int64\n",
      "dsavg_word             13804 non-null float64\n",
      "dsstopwords            13804 non-null int64\n",
      "dshastags              13804 non-null int64\n",
      "dsnumerics             13804 non-null int64\n",
      "dsupper                13804 non-null int64\n",
      "txword_count           13804 non-null int64\n",
      "txchar_count           13804 non-null int64\n",
      "txavg_word             13804 non-null float64\n",
      "txstopwords            13804 non-null int64\n",
      "txhastags              13804 non-null int64\n",
      "txnumerics             13804 non-null int64\n",
      "txupper                13804 non-null int64\n",
      "gender_code            13804 non-null int32\n",
      "dtypes: float64(19), int32(3), int64(30), object(8)\n",
      "memory usage: 6.3+ MB\n"
     ]
    }
   ],
   "source": [
    "gender_model_df2.info()"
   ]
  },
  {
   "cell_type": "code",
   "execution_count": 249,
   "metadata": {},
   "outputs": [
    {
     "data": {
      "text/plain": [
       "1"
      ]
     },
     "execution_count": 249,
     "metadata": {},
     "output_type": "execute_result"
    }
   ],
   "source": [
    "gender_model_df2.gender_confidence.nunique()"
   ]
  },
  {
   "cell_type": "code",
   "execution_count": 259,
   "metadata": {},
   "outputs": [
    {
     "data": {
      "text/plain": [
       "female    38.880035\n",
       "male      33.707621\n",
       "brand     27.412344\n",
       "Name: gender, dtype: float64"
      ]
     },
     "execution_count": 259,
     "metadata": {},
     "output_type": "execute_result"
    }
   ],
   "source": [
    "# The percentage of the target variable 'gender'\n",
    "\n",
    "gender_model_df2['gender'].value_counts(normalize=True) * 100"
   ]
  },
  {
   "cell_type": "code",
   "execution_count": 252,
   "metadata": {},
   "outputs": [
    {
     "name": "stdout",
     "output_type": "stream",
     "text": [
      "<class 'pandas.core.frame.DataFrame'>\n",
      "Int64Index: 13804 entries, 0 to 20049\n",
      "Data columns (total 49 columns):\n",
      "fav_number             13804 non-null int64\n",
      "retweet_count          13804 non-null int64\n",
      "tweet_count            13804 non-null int64\n",
      "name_count             13804 non-null int64\n",
      "linkcolor_red          13804 non-null int64\n",
      "linkcolor_green        13804 non-null int64\n",
      "linkcolor_blue         13804 non-null int64\n",
      "sidebar_red            13804 non-null int64\n",
      "sidebar_green          13804 non-null int64\n",
      "sidebar_blue           13804 non-null int64\n",
      "namevec1               13804 non-null float64\n",
      "namevec2               13804 non-null float64\n",
      "namevec3               13804 non-null float64\n",
      "tzvec1                 13804 non-null float64\n",
      "tzvec2                 13804 non-null float64\n",
      "tzvec3                 13804 non-null float64\n",
      "year                   13804 non-null int64\n",
      "month                  13804 non-null int64\n",
      "day                    13804 non-null int64\n",
      "hour                   13804 non-null int64\n",
      "second                 13804 non-null int64\n",
      "log_twcount            13804 non-null float64\n",
      "binarize_twcount       13804 non-null int64\n",
      "sk_binarize_twcount    13804 non-null int64\n",
      "fav_percent            13804 non-null float64\n",
      "fav_pop1000            13804 non-null int32\n",
      "descriptionv1          13804 non-null float64\n",
      "decriptionv2           13804 non-null float64\n",
      "descriptionv3          13804 non-null float64\n",
      "descriptionv4          13804 non-null float64\n",
      "descriptionv5          13804 non-null float64\n",
      "descriptionv6          13804 non-null float64\n",
      "descriptionv7          13804 non-null float64\n",
      "last3word_code         13804 non-null int32\n",
      "dsword_count           13804 non-null int64\n",
      "dschar_count           13804 non-null int64\n",
      "dsavg_word             13804 non-null float64\n",
      "dsstopwords            13804 non-null int64\n",
      "dshastags              13804 non-null int64\n",
      "dsnumerics             13804 non-null int64\n",
      "dsupper                13804 non-null int64\n",
      "txword_count           13804 non-null int64\n",
      "txchar_count           13804 non-null int64\n",
      "txavg_word             13804 non-null float64\n",
      "txstopwords            13804 non-null int64\n",
      "txhastags              13804 non-null int64\n",
      "txnumerics             13804 non-null int64\n",
      "txupper                13804 non-null int64\n",
      "gender_code            13804 non-null int32\n",
      "dtypes: float64(17), int32(3), int64(29)\n",
      "memory usage: 5.1 MB\n"
     ]
    }
   ],
   "source": [
    "# drop the gender,gender_confidence','unit_id and tweet_coord and all columns used for encoding then save data to disc\n",
    "gender_model_df3a = gender_model_df2.copy()\n",
    "\n",
    "gender_model_df3a = gender_model_df2.drop(['gender','gender_confidence','unit_id','tweet_coord'], axis =1)  # drop selected co;umns\n",
    "\n",
    "gender_model_df3 = gender_model_df3a.drop(['profileimage','tweet_created','tweet_id','text_clean','text_clean','clean_description','name_last3word','text_sentiment'], axis =1)  # drop selected co;umns\n",
    "\n",
    "gender_model_df3.to_csv(\"C:/Users/yasser/Desktop/Apps/hellosoda/data/gender_model_df3.csv\")   # save out the data to disc\n",
    "\n",
    "gender_model_df3.info()   # display header"
   ]
  },
  {
   "cell_type": "code",
   "execution_count": 253,
   "metadata": {},
   "outputs": [
    {
     "data": {
      "text/plain": [
       "(13804, 49)"
      ]
     },
     "execution_count": 253,
     "metadata": {},
     "output_type": "execute_result"
    }
   ],
   "source": [
    "\n",
    "gender_model_df3.shape"
   ]
  },
  {
   "cell_type": "code",
   "execution_count": 255,
   "metadata": {},
   "outputs": [
    {
     "name": "stdout",
     "output_type": "stream",
     "text": [
      "<class 'pandas.core.frame.DataFrame'>\n",
      "RangeIndex: 13804 entries, 0 to 13803\n",
      "Data columns (total 49 columns):\n",
      "fav_number             13804 non-null int64\n",
      "retweet_count          13804 non-null int64\n",
      "tweet_count            13804 non-null int64\n",
      "name_count             13804 non-null int64\n",
      "linkcolor_red          13804 non-null int64\n",
      "linkcolor_green        13804 non-null int64\n",
      "linkcolor_blue         13804 non-null int64\n",
      "sidebar_red            13804 non-null int64\n",
      "sidebar_green          13804 non-null int64\n",
      "sidebar_blue           13804 non-null int64\n",
      "namevec1               13804 non-null float64\n",
      "namevec2               13804 non-null float64\n",
      "namevec3               13804 non-null float64\n",
      "tzvec1                 13804 non-null float64\n",
      "tzvec2                 13804 non-null float64\n",
      "tzvec3                 13804 non-null float64\n",
      "year                   13804 non-null int64\n",
      "month                  13804 non-null int64\n",
      "day                    13804 non-null int64\n",
      "hour                   13804 non-null int64\n",
      "second                 13804 non-null int64\n",
      "log_twcount            13804 non-null float64\n",
      "binarize_twcount       13804 non-null int64\n",
      "sk_binarize_twcount    13804 non-null int64\n",
      "fav_percent            13804 non-null float64\n",
      "fav_pop1000            13804 non-null int64\n",
      "descriptionv1          13804 non-null float64\n",
      "decriptionv2           13804 non-null float64\n",
      "descriptionv3          13804 non-null float64\n",
      "descriptionv4          13804 non-null float64\n",
      "descriptionv5          13804 non-null float64\n",
      "descriptionv6          13804 non-null float64\n",
      "descriptionv7          13804 non-null float64\n",
      "last3word_code         13804 non-null int64\n",
      "dsword_count           13804 non-null int64\n",
      "dschar_count           13804 non-null int64\n",
      "dsavg_word             13804 non-null float64\n",
      "dsstopwords            13804 non-null int64\n",
      "dshastags              13804 non-null int64\n",
      "dsnumerics             13804 non-null int64\n",
      "dsupper                13804 non-null int64\n",
      "txword_count           13804 non-null int64\n",
      "txchar_count           13804 non-null int64\n",
      "txavg_word             13804 non-null float64\n",
      "txstopwords            13804 non-null int64\n",
      "txhastags              13804 non-null int64\n",
      "txnumerics             13804 non-null int64\n",
      "txupper                13804 non-null int64\n",
      "gender_code            13804 non-null int64\n",
      "dtypes: float64(17), int64(32)\n",
      "memory usage: 5.2 MB\n"
     ]
    }
   ],
   "source": [
    "#1.1  import data and created pandas dataframe.\n",
    "gender_model_df4 =  pd.read_csv(\".../gender_model_df3.csv\",na_values=' ')\n",
    "\n",
    "gender_model_df4 = gender_model_df4.iloc[:, 1:54] # drop unnamed columns\n",
    "gender_model_df4.info()  # diaplay dataframe"
   ]
  },
  {
   "cell_type": "code",
   "execution_count": 258,
   "metadata": {},
   "outputs": [
    {
     "data": {
      "text/plain": [
       "1    38.880035\n",
       "2    33.707621\n",
       "0    27.412344\n",
       "Name: gender_code, dtype: float64"
      ]
     },
     "execution_count": 258,
     "metadata": {},
     "output_type": "execute_result"
    }
   ],
   "source": [
    "# The percentage of the target variable 'gender_code'\n",
    "\n",
    "gender_model_df4['gender_code'].value_counts(normalize=True) * 100"
   ]
  },
  {
   "cell_type": "code",
   "execution_count": null,
   "metadata": {},
   "outputs": [],
   "source": [
    "# The paercentage of each of the categories shows a balanced target variable (1, 2, 3 representing female, male and brand respectively)"
   ]
  },
  {
   "cell_type": "code",
   "execution_count": 260,
   "metadata": {},
   "outputs": [],
   "source": [
    "# slelect input variables and target variable\n",
    "from sklearn.model_selection import train_test_split\n",
    "\n",
    "X_features = gender_model_df4[gender_model_df4.columns[:-1]]\n",
    "\n",
    "y_target = gender_model_df4['gender_code']  "
   ]
  },
  {
   "cell_type": "code",
   "execution_count": 261,
   "metadata": {},
   "outputs": [
    {
     "name": "stdout",
     "output_type": "stream",
     "text": [
      "<class 'pandas.core.frame.DataFrame'>\n",
      "RangeIndex: 13804 entries, 0 to 13803\n",
      "Data columns (total 48 columns):\n",
      "fav_number             13804 non-null int64\n",
      "retweet_count          13804 non-null int64\n",
      "tweet_count            13804 non-null int64\n",
      "name_count             13804 non-null int64\n",
      "linkcolor_red          13804 non-null int64\n",
      "linkcolor_green        13804 non-null int64\n",
      "linkcolor_blue         13804 non-null int64\n",
      "sidebar_red            13804 non-null int64\n",
      "sidebar_green          13804 non-null int64\n",
      "sidebar_blue           13804 non-null int64\n",
      "namevec1               13804 non-null float64\n",
      "namevec2               13804 non-null float64\n",
      "namevec3               13804 non-null float64\n",
      "tzvec1                 13804 non-null float64\n",
      "tzvec2                 13804 non-null float64\n",
      "tzvec3                 13804 non-null float64\n",
      "year                   13804 non-null int64\n",
      "month                  13804 non-null int64\n",
      "day                    13804 non-null int64\n",
      "hour                   13804 non-null int64\n",
      "second                 13804 non-null int64\n",
      "log_twcount            13804 non-null float64\n",
      "binarize_twcount       13804 non-null int64\n",
      "sk_binarize_twcount    13804 non-null int64\n",
      "fav_percent            13804 non-null float64\n",
      "fav_pop1000            13804 non-null int64\n",
      "descriptionv1          13804 non-null float64\n",
      "decriptionv2           13804 non-null float64\n",
      "descriptionv3          13804 non-null float64\n",
      "descriptionv4          13804 non-null float64\n",
      "descriptionv5          13804 non-null float64\n",
      "descriptionv6          13804 non-null float64\n",
      "descriptionv7          13804 non-null float64\n",
      "last3word_code         13804 non-null int64\n",
      "dsword_count           13804 non-null int64\n",
      "dschar_count           13804 non-null int64\n",
      "dsavg_word             13804 non-null float64\n",
      "dsstopwords            13804 non-null int64\n",
      "dshastags              13804 non-null int64\n",
      "dsnumerics             13804 non-null int64\n",
      "dsupper                13804 non-null int64\n",
      "txword_count           13804 non-null int64\n",
      "txchar_count           13804 non-null int64\n",
      "txavg_word             13804 non-null float64\n",
      "txstopwords            13804 non-null int64\n",
      "txhastags              13804 non-null int64\n",
      "txnumerics             13804 non-null int64\n",
      "txupper                13804 non-null int64\n",
      "dtypes: float64(17), int64(31)\n",
      "memory usage: 5.1 MB\n"
     ]
    }
   ],
   "source": [
    "X_features.info()"
   ]
  },
  {
   "cell_type": "code",
   "execution_count": 263,
   "metadata": {},
   "outputs": [
    {
     "data": {
      "text/plain": [
       "0    2\n",
       "1    2\n",
       "2    2\n",
       "3    1\n",
       "Name: gender_code, dtype: int64"
      ]
     },
     "execution_count": 263,
     "metadata": {},
     "output_type": "execute_result"
    }
   ],
   "source": [
    "y_target[:4]"
   ]
  },
  {
   "cell_type": "code",
   "execution_count": 266,
   "metadata": {},
   "outputs": [
    {
     "name": "stderr",
     "output_type": "stream",
     "text": [
      "C:\\Users\\yasser\\Anaconda2\\envs\\pyt36\\lib\\site-packages\\sklearn\\preprocessing\\data.py:625: DataConversionWarning:\n",
      "\n",
      "Data with input dtype int64, float64 were all converted to float64 by StandardScaler.\n",
      "\n",
      "C:\\Users\\yasser\\Anaconda2\\envs\\pyt36\\lib\\site-packages\\ipykernel_launcher.py:9: DataConversionWarning:\n",
      "\n",
      "Data with input dtype int64, float64 were all converted to float64 by StandardScaler.\n",
      "\n"
     ]
    }
   ],
   "source": [
    "# feature scalling\n",
    "# Feature scaling improves the convergence of steepest descent algorithms, which do not possess the property of scale invariance.\n",
    "\n",
    "from sklearn import preprocessing\n",
    "from sklearn.preprocessing import StandardScaler\n",
    "\n",
    "std_scale = preprocessing.StandardScaler().fit(X_features)\n",
    "\n",
    "X_features_scaled_df = std_scale.transform(X_features)\n"
   ]
  },
  {
   "cell_type": "code",
   "execution_count": 267,
   "metadata": {},
   "outputs": [
    {
     "name": "stdout",
     "output_type": "stream",
     "text": [
      "(11043, 48) (11043,)\n",
      "(2761, 48) (2761,)\n"
     ]
    }
   ],
   "source": [
    "# split X_features and y_target into training and test data sets\n",
    "\n",
    "X_train, X_test, y_train, y_test = train_test_split(X_features_scaled_df, y_target, test_size=0.2, random_state=42)\n",
    "\n",
    "print(X_train.shape, y_train.shape)\n",
    "print(X_test.shape, y_test.shape) "
   ]
  },
  {
   "cell_type": "code",
   "execution_count": 268,
   "metadata": {},
   "outputs": [],
   "source": [
    "from sklearn.ensemble import RandomForestClassifier, RandomForestRegressor\n",
    "import xgboost as xgb\n",
    "from sklearn.metrics import mean_squared_error\n",
    "from sklearn.metrics import roc_auc_score\n",
    "from sklearn.metrics import accuracy_score\n"
   ]
  },
  {
   "cell_type": "code",
   "execution_count": 269,
   "metadata": {},
   "outputs": [
    {
     "name": "stderr",
     "output_type": "stream",
     "text": [
      "C:\\Users\\yasser\\Anaconda2\\envs\\pyt36\\lib\\site-packages\\sklearn\\ensemble\\forest.py:246: FutureWarning:\n",
      "\n",
      "The default value of n_estimators will change from 10 in version 0.20 to 100 in 0.22.\n",
      "\n"
     ]
    },
    {
     "data": {
      "text/plain": [
       "RandomForestClassifier(bootstrap=True, class_weight=None, criterion='gini',\n",
       "            max_depth=None, max_features='auto', max_leaf_nodes=None,\n",
       "            min_impurity_decrease=0.0, min_impurity_split=None,\n",
       "            min_samples_leaf=1, min_samples_split=2,\n",
       "            min_weight_fraction_leaf=0.0, n_estimators=10, n_jobs=None,\n",
       "            oob_score=False, random_state=0, verbose=0, warm_start=False)"
      ]
     },
     "execution_count": 269,
     "metadata": {},
     "output_type": "execute_result"
    }
   ],
   "source": [
    "rfclf_m1 = RandomForestClassifier(random_state=0)  # # Create a random forest Classifier. By convention, rfclf, put hyperparameters, default\n",
    "\n",
    "# Train the Classifier to take the X-training features and learn how they relate to the y-training target independent variable (rclf_m1)\n",
    "rfclf_m1.fit(X_train, y_train)  # fit model\n"
   ]
  },
  {
   "cell_type": "code",
   "execution_count": 270,
   "metadata": {},
   "outputs": [
    {
     "name": "stdout",
     "output_type": "stream",
     "text": [
      "classifier accuracy: 0.6095617529880478\n"
     ]
    }
   ],
   "source": [
    "\n",
    "# Evaluate the classifier by using accuracy measure\n",
    "# Apply the trained Classifier to the test data (which, remember, it has never seen before to measure accuracy)\n",
    "print(\"classifier accuracy:\", rfclf_m1.score(X_test, y_test))  # score model"
   ]
  },
  {
   "cell_type": "code",
   "execution_count": 271,
   "metadata": {},
   "outputs": [
    {
     "data": {
      "text/plain": [
       "array([[560,  84,  94],\n",
       "       [ 78, 719, 275],\n",
       "       [123, 424, 404]], dtype=int64)"
      ]
     },
     "execution_count": 271,
     "metadata": {},
     "output_type": "execute_result"
    }
   ],
   "source": [
    "# Evaluate the classifier by using confusion matrix compare y predicted to actual y values\n",
    "\n",
    "# Apply the trained Classifier to the X-test data and make predictions\n",
    "y_pred = rfclf_m1.predict(X_test)  # use model to predict on test data for generalisation\n",
    "y_true = y_test\n",
    "# create confusion matrix\n",
    "\n",
    "from sklearn.metrics import confusion_matrix\n",
    "\n",
    "confusion_matrix(y_true, y_pred)"
   ]
  },
  {
   "cell_type": "code",
   "execution_count": 12,
   "metadata": {},
   "outputs": [
    {
     "data": {
      "text/html": [
       "<div>\n",
       "<style>\n",
       "    .dataframe thead tr:only-child th {\n",
       "        text-align: right;\n",
       "    }\n",
       "\n",
       "    .dataframe thead th {\n",
       "        text-align: left;\n",
       "    }\n",
       "\n",
       "    .dataframe tbody tr th {\n",
       "        vertical-align: top;\n",
       "    }\n",
       "</style>\n",
       "<table border=\"1\" class=\"dataframe\">\n",
       "  <thead>\n",
       "    <tr style=\"text-align: right;\">\n",
       "      <th>Predicted</th>\n",
       "      <th>0</th>\n",
       "      <th>1</th>\n",
       "      <th>2</th>\n",
       "      <th>All</th>\n",
       "    </tr>\n",
       "    <tr>\n",
       "      <th>True</th>\n",
       "      <th></th>\n",
       "      <th></th>\n",
       "      <th></th>\n",
       "      <th></th>\n",
       "    </tr>\n",
       "  </thead>\n",
       "  <tbody>\n",
       "    <tr>\n",
       "      <th>0</th>\n",
       "      <td>543</td>\n",
       "      <td>95</td>\n",
       "      <td>100</td>\n",
       "      <td>738</td>\n",
       "    </tr>\n",
       "    <tr>\n",
       "      <th>1</th>\n",
       "      <td>80</td>\n",
       "      <td>729</td>\n",
       "      <td>263</td>\n",
       "      <td>1072</td>\n",
       "    </tr>\n",
       "    <tr>\n",
       "      <th>2</th>\n",
       "      <td>117</td>\n",
       "      <td>410</td>\n",
       "      <td>424</td>\n",
       "      <td>951</td>\n",
       "    </tr>\n",
       "    <tr>\n",
       "      <th>All</th>\n",
       "      <td>740</td>\n",
       "      <td>1234</td>\n",
       "      <td>787</td>\n",
       "      <td>2761</td>\n",
       "    </tr>\n",
       "  </tbody>\n",
       "</table>\n",
       "</div>"
      ],
      "text/plain": [
       "Predicted    0     1    2   All\n",
       "True                           \n",
       "0          543    95  100   738\n",
       "1           80   729  263  1072\n",
       "2          117   410  424   951\n",
       "All        740  1234  787  2761"
      ]
     },
     "execution_count": 12,
     "metadata": {},
     "output_type": "execute_result"
    }
   ],
   "source": [
    "pd.crosstab(y_true, y_pred, rownames=['True'], colnames=['Predicted'], margins=True)"
   ]
  },
  {
   "cell_type": "code",
   "execution_count": 272,
   "metadata": {},
   "outputs": [
    {
     "data": {
      "image/png": "[encoded data removed]",
      "text/plain": [
       "<Figure size 1008x504 with 1 Axes>"
      ]
     },
     "metadata": {},
     "output_type": "display_data"
    }
   ],
   "source": [
    "import matplotlib.pyplot as plt\n",
    "import sklearn\n",
    "conf = sklearn.metrics.confusion_matrix(y_true, y_pred)\n",
    "plt.imshow(conf, cmap='binary', interpolation='None')\n",
    "plt.show()"
   ]
  },
  {
   "cell_type": "code",
   "execution_count": 287,
   "metadata": {},
   "outputs": [
    {
     "data": {
      "text/plain": [
       "(0.6591250174697066, 0.6642160676574043, 0.6602176897989903, None)"
      ]
     },
     "execution_count": 287,
     "metadata": {},
     "output_type": "execute_result"
    }
   ],
   "source": [
    "# precision, recall, F1-score\n",
    "from sklearn.metrics import precision_recall_fscore_support\n",
    "\n",
    "precision_recall_fscore_support(y_true, y_pred, average='macro')"
   ]
  },
  {
   "cell_type": "code",
   "execution_count": 273,
   "metadata": {},
   "outputs": [],
   "source": [
    "# Feature importance\n",
    "\n",
    "from sklearn.ensemble import ExtraTreesClassifier\n",
    "from sklearn.feature_selection import SelectFromModel\n",
    "\n",
    "bclf = ExtraTreesClassifier(n_estimators=100)\n",
    "\n",
    "bclf = bclf.fit(X_train, y_train)\n",
    "  \n",
    "model = SelectFromModel(bclf, prefit=True)\n",
    "\n",
    "X_new = model.transform\n"
   ]
  },
  {
   "cell_type": "code",
   "execution_count": 274,
   "metadata": {},
   "outputs": [
    {
     "data": {
      "text/plain": [
       "array([0.02920397, 0.00438226, 0.02591525, 0.0323706 , 0.02856923,\n",
       "       0.01687586, 0.01776156, 0.01397194, 0.0131261 , 0.01344068,\n",
       "       0.0202798 , 0.0190927 , 0.01737049, 0.01689768, 0.01660412,\n",
       "       0.01627069, 0.03044483, 0.02185188, 0.02143602, 0.02358027,\n",
       "       0.02086372, 0.03008051, 0.        , 0.        , 0.02906457,\n",
       "       0.02439505, 0.02195961, 0.02076176, 0.02502584, 0.04619279,\n",
       "       0.02559569, 0.02750413, 0.02095715, 0.02188665, 0.02264664,\n",
       "       0.02834108, 0.01912792, 0.02047773, 0.01052424, 0.00654782,\n",
       "       0.01541939, 0.02555083, 0.03029409, 0.03330264, 0.03195632,\n",
       "       0.01719483, 0.00838487, 0.01649818])"
      ]
     },
     "execution_count": 274,
     "metadata": {},
     "output_type": "execute_result"
    }
   ],
   "source": [
    "bclf.feature_importances_"
   ]
  },
  {
   "cell_type": "code",
   "execution_count": 276,
   "metadata": {},
   "outputs": [
    {
     "data": {
      "text/html": [
       "<div>\n",
       "<style>\n",
       "    .dataframe thead tr:only-child th {\n",
       "        text-align: right;\n",
       "    }\n",
       "\n",
       "    .dataframe thead th {\n",
       "        text-align: left;\n",
       "    }\n",
       "\n",
       "    .dataframe tbody tr th {\n",
       "        vertical-align: top;\n",
       "    }\n",
       "</style>\n",
       "<table border=\"1\" class=\"dataframe\">\n",
       "  <thead>\n",
       "    <tr style=\"text-align: right;\">\n",
       "      <th></th>\n",
       "      <th>importance</th>\n",
       "    </tr>\n",
       "  </thead>\n",
       "  <tbody>\n",
       "    <tr>\n",
       "      <th>fav_percent</th>\n",
       "      <td>0.060416</td>\n",
       "    </tr>\n",
       "    <tr>\n",
       "      <th>txavg_word</th>\n",
       "      <td>0.056293</td>\n",
       "    </tr>\n",
       "    <tr>\n",
       "      <th>descriptionv4</th>\n",
       "      <td>0.051262</td>\n",
       "    </tr>\n",
       "    <tr>\n",
       "      <th>fav_number</th>\n",
       "      <td>0.050871</td>\n",
       "    </tr>\n",
       "    <tr>\n",
       "      <th>fav_pop1000</th>\n",
       "      <td>0.033979</td>\n",
       "    </tr>\n",
       "  </tbody>\n",
       "</table>\n",
       "</div>"
      ],
      "text/plain": [
       "               importance\n",
       "fav_percent      0.060416\n",
       "txavg_word       0.056293\n",
       "descriptionv4    0.051262\n",
       "fav_number       0.050871\n",
       "fav_pop1000      0.033979"
      ]
     },
     "execution_count": 276,
     "metadata": {},
     "output_type": "execute_result"
    }
   ],
   "source": [
    "# feature importance\n",
    "\n",
    "feature_importances = pd.DataFrame(rfclf_m1.feature_importances_,\n",
    "                                   index = X_features.columns,\n",
    "                                    columns=['importance']).sort_values('importance',ascending=False)\n",
    "\n",
    "feature_importances.head()"
   ]
  },
  {
   "cell_type": "code",
   "execution_count": 277,
   "metadata": {},
   "outputs": [
    {
     "data": {
      "text/html": [
       "<div>\n",
       "<style>\n",
       "    .dataframe thead tr:only-child th {\n",
       "        text-align: right;\n",
       "    }\n",
       "\n",
       "    .dataframe thead th {\n",
       "        text-align: left;\n",
       "    }\n",
       "\n",
       "    .dataframe tbody tr th {\n",
       "        vertical-align: top;\n",
       "    }\n",
       "</style>\n",
       "<table border=\"1\" class=\"dataframe\">\n",
       "  <thead>\n",
       "    <tr style=\"text-align: right;\">\n",
       "      <th></th>\n",
       "      <th>importance</th>\n",
       "      <th>importance_rank</th>\n",
       "    </tr>\n",
       "  </thead>\n",
       "  <tbody>\n",
       "    <tr>\n",
       "      <th>fav_percent</th>\n",
       "      <td>0.060416</td>\n",
       "      <td>48.0</td>\n",
       "    </tr>\n",
       "    <tr>\n",
       "      <th>txavg_word</th>\n",
       "      <td>0.056293</td>\n",
       "      <td>47.0</td>\n",
       "    </tr>\n",
       "    <tr>\n",
       "      <th>descriptionv4</th>\n",
       "      <td>0.051262</td>\n",
       "      <td>46.0</td>\n",
       "    </tr>\n",
       "    <tr>\n",
       "      <th>fav_number</th>\n",
       "      <td>0.050871</td>\n",
       "      <td>45.0</td>\n",
       "    </tr>\n",
       "    <tr>\n",
       "      <th>fav_pop1000</th>\n",
       "      <td>0.033979</td>\n",
       "      <td>44.0</td>\n",
       "    </tr>\n",
       "    <tr>\n",
       "      <th>descriptionv6</th>\n",
       "      <td>0.032975</td>\n",
       "      <td>43.0</td>\n",
       "    </tr>\n",
       "    <tr>\n",
       "      <th>dschar_count</th>\n",
       "      <td>0.031981</td>\n",
       "      <td>42.0</td>\n",
       "    </tr>\n",
       "    <tr>\n",
       "      <th>descriptionv3</th>\n",
       "      <td>0.031092</td>\n",
       "      <td>41.0</td>\n",
       "    </tr>\n",
       "    <tr>\n",
       "      <th>log_twcount</th>\n",
       "      <td>0.030532</td>\n",
       "      <td>40.0</td>\n",
       "    </tr>\n",
       "    <tr>\n",
       "      <th>txchar_count</th>\n",
       "      <td>0.029671</td>\n",
       "      <td>39.0</td>\n",
       "    </tr>\n",
       "    <tr>\n",
       "      <th>tweet_count</th>\n",
       "      <td>0.028956</td>\n",
       "      <td>38.0</td>\n",
       "    </tr>\n",
       "    <tr>\n",
       "      <th>last3word_code</th>\n",
       "      <td>0.028316</td>\n",
       "      <td>37.0</td>\n",
       "    </tr>\n",
       "    <tr>\n",
       "      <th>descriptionv5</th>\n",
       "      <td>0.027637</td>\n",
       "      <td>36.0</td>\n",
       "    </tr>\n",
       "    <tr>\n",
       "      <th>linkcolor_red</th>\n",
       "      <td>0.026317</td>\n",
       "      <td>35.0</td>\n",
       "    </tr>\n",
       "    <tr>\n",
       "      <th>descriptionv7</th>\n",
       "      <td>0.025668</td>\n",
       "      <td>34.0</td>\n",
       "    </tr>\n",
       "    <tr>\n",
       "      <th>decriptionv2</th>\n",
       "      <td>0.024046</td>\n",
       "      <td>33.0</td>\n",
       "    </tr>\n",
       "    <tr>\n",
       "      <th>name_count</th>\n",
       "      <td>0.023830</td>\n",
       "      <td>32.0</td>\n",
       "    </tr>\n",
       "    <tr>\n",
       "      <th>dsavg_word</th>\n",
       "      <td>0.023662</td>\n",
       "      <td>31.0</td>\n",
       "    </tr>\n",
       "    <tr>\n",
       "      <th>second</th>\n",
       "      <td>0.022962</td>\n",
       "      <td>30.0</td>\n",
       "    </tr>\n",
       "    <tr>\n",
       "      <th>descriptionv1</th>\n",
       "      <td>0.022519</td>\n",
       "      <td>29.0</td>\n",
       "    </tr>\n",
       "    <tr>\n",
       "      <th>year</th>\n",
       "      <td>0.022120</td>\n",
       "      <td>28.0</td>\n",
       "    </tr>\n",
       "    <tr>\n",
       "      <th>day</th>\n",
       "      <td>0.022031</td>\n",
       "      <td>27.0</td>\n",
       "    </tr>\n",
       "    <tr>\n",
       "      <th>txword_count</th>\n",
       "      <td>0.021607</td>\n",
       "      <td>26.0</td>\n",
       "    </tr>\n",
       "    <tr>\n",
       "      <th>hour</th>\n",
       "      <td>0.021575</td>\n",
       "      <td>25.0</td>\n",
       "    </tr>\n",
       "    <tr>\n",
       "      <th>namevec1</th>\n",
       "      <td>0.019072</td>\n",
       "      <td>24.0</td>\n",
       "    </tr>\n",
       "    <tr>\n",
       "      <th>dsword_count</th>\n",
       "      <td>0.018927</td>\n",
       "      <td>23.0</td>\n",
       "    </tr>\n",
       "    <tr>\n",
       "      <th>txstopwords</th>\n",
       "      <td>0.018837</td>\n",
       "      <td>22.0</td>\n",
       "    </tr>\n",
       "    <tr>\n",
       "      <th>namevec3</th>\n",
       "      <td>0.018466</td>\n",
       "      <td>21.0</td>\n",
       "    </tr>\n",
       "    <tr>\n",
       "      <th>namevec2</th>\n",
       "      <td>0.017826</td>\n",
       "      <td>20.0</td>\n",
       "    </tr>\n",
       "    <tr>\n",
       "      <th>month</th>\n",
       "      <td>0.016747</td>\n",
       "      <td>19.0</td>\n",
       "    </tr>\n",
       "    <tr>\n",
       "      <th>linkcolor_blue</th>\n",
       "      <td>0.016043</td>\n",
       "      <td>18.0</td>\n",
       "    </tr>\n",
       "    <tr>\n",
       "      <th>linkcolor_green</th>\n",
       "      <td>0.015142</td>\n",
       "      <td>17.0</td>\n",
       "    </tr>\n",
       "    <tr>\n",
       "      <th>dsstopwords</th>\n",
       "      <td>0.014682</td>\n",
       "      <td>16.0</td>\n",
       "    </tr>\n",
       "    <tr>\n",
       "      <th>tzvec3</th>\n",
       "      <td>0.012614</td>\n",
       "      <td>15.0</td>\n",
       "    </tr>\n",
       "    <tr>\n",
       "      <th>tzvec1</th>\n",
       "      <td>0.012585</td>\n",
       "      <td>14.0</td>\n",
       "    </tr>\n",
       "    <tr>\n",
       "      <th>tzvec2</th>\n",
       "      <td>0.011249</td>\n",
       "      <td>13.0</td>\n",
       "    </tr>\n",
       "    <tr>\n",
       "      <th>txhastags</th>\n",
       "      <td>0.008577</td>\n",
       "      <td>12.0</td>\n",
       "    </tr>\n",
       "    <tr>\n",
       "      <th>txupper</th>\n",
       "      <td>0.007995</td>\n",
       "      <td>11.0</td>\n",
       "    </tr>\n",
       "    <tr>\n",
       "      <th>sidebar_red</th>\n",
       "      <td>0.007982</td>\n",
       "      <td>10.0</td>\n",
       "    </tr>\n",
       "    <tr>\n",
       "      <th>sidebar_blue</th>\n",
       "      <td>0.007917</td>\n",
       "      <td>9.0</td>\n",
       "    </tr>\n",
       "    <tr>\n",
       "      <th>sidebar_green</th>\n",
       "      <td>0.007520</td>\n",
       "      <td>8.0</td>\n",
       "    </tr>\n",
       "    <tr>\n",
       "      <th>dsupper</th>\n",
       "      <td>0.006519</td>\n",
       "      <td>7.0</td>\n",
       "    </tr>\n",
       "    <tr>\n",
       "      <th>dshastags</th>\n",
       "      <td>0.004483</td>\n",
       "      <td>6.0</td>\n",
       "    </tr>\n",
       "    <tr>\n",
       "      <th>txnumerics</th>\n",
       "      <td>0.002947</td>\n",
       "      <td>5.0</td>\n",
       "    </tr>\n",
       "    <tr>\n",
       "      <th>dsnumerics</th>\n",
       "      <td>0.001983</td>\n",
       "      <td>4.0</td>\n",
       "    </tr>\n",
       "    <tr>\n",
       "      <th>retweet_count</th>\n",
       "      <td>0.001568</td>\n",
       "      <td>3.0</td>\n",
       "    </tr>\n",
       "    <tr>\n",
       "      <th>sk_binarize_twcount</th>\n",
       "      <td>0.000000</td>\n",
       "      <td>1.5</td>\n",
       "    </tr>\n",
       "    <tr>\n",
       "      <th>binarize_twcount</th>\n",
       "      <td>0.000000</td>\n",
       "      <td>1.5</td>\n",
       "    </tr>\n",
       "  </tbody>\n",
       "</table>\n",
       "</div>"
      ],
      "text/plain": [
       "                     importance  importance_rank\n",
       "fav_percent            0.060416             48.0\n",
       "txavg_word             0.056293             47.0\n",
       "descriptionv4          0.051262             46.0\n",
       "fav_number             0.050871             45.0\n",
       "fav_pop1000            0.033979             44.0\n",
       "descriptionv6          0.032975             43.0\n",
       "dschar_count           0.031981             42.0\n",
       "descriptionv3          0.031092             41.0\n",
       "log_twcount            0.030532             40.0\n",
       "txchar_count           0.029671             39.0\n",
       "tweet_count            0.028956             38.0\n",
       "last3word_code         0.028316             37.0\n",
       "descriptionv5          0.027637             36.0\n",
       "linkcolor_red          0.026317             35.0\n",
       "descriptionv7          0.025668             34.0\n",
       "decriptionv2           0.024046             33.0\n",
       "name_count             0.023830             32.0\n",
       "dsavg_word             0.023662             31.0\n",
       "second                 0.022962             30.0\n",
       "descriptionv1          0.022519             29.0\n",
       "year                   0.022120             28.0\n",
       "day                    0.022031             27.0\n",
       "txword_count           0.021607             26.0\n",
       "hour                   0.021575             25.0\n",
       "namevec1               0.019072             24.0\n",
       "dsword_count           0.018927             23.0\n",
       "txstopwords            0.018837             22.0\n",
       "namevec3               0.018466             21.0\n",
       "namevec2               0.017826             20.0\n",
       "month                  0.016747             19.0\n",
       "linkcolor_blue         0.016043             18.0\n",
       "linkcolor_green        0.015142             17.0\n",
       "dsstopwords            0.014682             16.0\n",
       "tzvec3                 0.012614             15.0\n",
       "tzvec1                 0.012585             14.0\n",
       "tzvec2                 0.011249             13.0\n",
       "txhastags              0.008577             12.0\n",
       "txupper                0.007995             11.0\n",
       "sidebar_red            0.007982             10.0\n",
       "sidebar_blue           0.007917              9.0\n",
       "sidebar_green          0.007520              8.0\n",
       "dsupper                0.006519              7.0\n",
       "dshastags              0.004483              6.0\n",
       "txnumerics             0.002947              5.0\n",
       "dsnumerics             0.001983              4.0\n",
       "retweet_count          0.001568              3.0\n",
       "sk_binarize_twcount    0.000000              1.5\n",
       "binarize_twcount       0.000000              1.5"
      ]
     },
     "execution_count": 277,
     "metadata": {},
     "output_type": "execute_result"
    }
   ],
   "source": [
    "feature_importances['importance_rank'] = feature_importances['importance'].rank(ascending=True)\n",
    "\n",
    "feature_importances"
   ]
  },
  {
   "cell_type": "code",
   "execution_count": 278,
   "metadata": {},
   "outputs": [],
   "source": [
    "from sklearn.model_selection import GridSearchCV\n",
    "from sklearn.pipeline import Pipeline\n",
    "from sklearn.svm import LinearSVC\n",
    "#seed = 7"
   ]
  },
  {
   "cell_type": "code",
   "execution_count": 32,
   "metadata": {},
   "outputs": [],
   "source": [
    "#fsclf = Pipeline([('feature_selection', SelectFromModel(LinearSVC(penalty=\"l1\"))),('classification', RandomForestClassifier())])"
   ]
  },
  {
   "cell_type": "code",
   "execution_count": 34,
   "metadata": {},
   "outputs": [],
   "source": [
    "#fsclf.fit(X_train, y_train)"
   ]
  },
  {
   "cell_type": "code",
   "execution_count": 279,
   "metadata": {},
   "outputs": [],
   "source": [
    "model = SelectFromModel(rfclf_m1, prefit=True)\n",
    "X_new = model.transform(X_train)\n",
    "X_newtest = model.transform(X_test)               \n"
   ]
  },
  {
   "cell_type": "code",
   "execution_count": 280,
   "metadata": {},
   "outputs": [
    {
     "data": {
      "text/plain": [
       "(11043, 24)"
      ]
     },
     "execution_count": 280,
     "metadata": {},
     "output_type": "execute_result"
    }
   ],
   "source": [
    "X_new.shape"
   ]
  },
  {
   "cell_type": "code",
   "execution_count": 281,
   "metadata": {},
   "outputs": [
    {
     "name": "stderr",
     "output_type": "stream",
     "text": [
      "C:\\Users\\yasser\\Anaconda2\\envs\\pyt36\\lib\\site-packages\\sklearn\\ensemble\\forest.py:246: FutureWarning:\n",
      "\n",
      "The default value of n_estimators will change from 10 in version 0.20 to 100 in 0.22.\n",
      "\n"
     ]
    },
    {
     "name": "stdout",
     "output_type": "stream",
     "text": [
      "classifier accuracy: 0.6160811300253531\n"
     ]
    }
   ],
   "source": [
    "rfclf_m2 = RandomForestClassifier(random_state=0)\n",
    "rfclf_m2.fit(X_new, y_train)\n",
    "\n",
    "print(\"classifier accuracy:\", rfclf_m2.score(X_newtest, y_test))  # score model"
   ]
  },
  {
   "cell_type": "code",
   "execution_count": 284,
   "metadata": {},
   "outputs": [],
   "source": [
    "# model with XGBoost\n",
    "\n",
    "import xgboost as xgb\n",
    "from xgboost.sklearn import XGBClassifier\n",
    "#from sklearn import cross_validation, metrics   #Additional scklearn functions\n",
    "#from sklearn.grid_search import GridSearchCV   #Perforing grid search\n",
    "\n",
    "from matplotlib.pylab import rcParams\n",
    "rcParams['figure.figsize'] = 12, 4"
   ]
  },
  {
   "cell_type": "code",
   "execution_count": 44,
   "metadata": {},
   "outputs": [],
   "source": [
    "'''\n",
    "lets define a function which will help us create XGBoost models and perform cross-validation. \n",
    "The best part is that you can take this function as it is and use it later for your own models'''.\n",
    "\n",
    "def modelfit(alg, dtrain, predictors,useTrainCV=True, cv_folds=5, early_stopping_rounds=50):\n",
    "    \n",
    "    if useTrainCV:\n",
    "        xgb_param = alg.get_xgb_params()\n",
    "        xgtrain = xgb.DMatrix(dtrain[predictors].values, label=dtrain[target].values)\n",
    "        cvresult = xgb.cv(xgb_param, xgtrain, num_boost_round=alg.get_params()['n_estimators'], nfold=cv_folds,\n",
    "            metrics='auc', early_stopping_rounds=early_stopping_rounds, show_progress=False)\n",
    "        alg.set_params(n_estimators=cvresult.shape[0])\n",
    "    \n",
    "    #Fit the algorithm on the data\n",
    "    alg.fit(dtrain[predictors], dtrain['Disbursed'],eval_metric='auc')\n",
    "        \n",
    "    #Predict training set:\n",
    "    dtrain_predictions = alg.predict(dtrain[predictors])\n",
    "    dtrain_predprob = alg.predict_proba(dtrain[predictors])[:,1]\n",
    "        \n",
    "    #Print model report:\n",
    "    print \"\\nModel Report\"\n",
    "    print \"Accuracy : %.4g\" % metrics.accuracy_score(dtrain['Disbursed'].values, dtrain_predictions)\n",
    "    print \"AUC Score (Train): %f\" % metrics.roc_auc_score(dtrain['Disbursed'], dtrain_predprob)\n",
    "                    \n",
    "    feat_imp = pd.Series(alg.booster().get_fscore()).sort_values(ascending=False)\n",
    "    feat_imp.plot(kind='bar', title='Feature Importances')\n",
    "    plt.ylabel('Feature Importance Score')\n"
   ]
  },
  {
   "cell_type": "code",
   "execution_count": null,
   "metadata": {},
   "outputs": [],
   "source": [
    "#Choose all predictors except target & IDcols\n",
    "predictors = [x for x in train.columns if x not in [target, IDcol]]\n",
    "xgb1 = XGBClassifier(\n",
    " learning_rate =0.1,\n",
    " n_estimators=1000,\n",
    " max_depth=5,\n",
    " min_child_weight=1,\n",
    " gamma=0,\n",
    " subsample=0.8,\n",
    " colsample_bytree=0.8,\n",
    " objective= 'binary:logistic',\n",
    " nthread=4,\n",
    " scale_pos_weight=1,\n",
    " seed=27)\n",
    "\n",
    "# fit model\n",
    "modelfit(xgb1, train, predictors)\n"
   ]
  },
  {
   "cell_type": "code",
   "execution_count": null,
   "metadata": {},
   "outputs": [],
   "source": [
    "param_test1 = {\n",
    " 'max_depth':range(3,10,2),\n",
    " 'min_child_weight':range(1,6,2)\n",
    "}\n",
    "gsearch1 = GridSearchCV(estimator = XGBClassifier( learning_rate =0.1, n_estimators=140, max_depth=5,\n",
    " min_child_weight=1, gamma=0, subsample=0.8, colsample_bytree=0.8,\n",
    " objective= 'binary:logistic', nthread=4, scale_pos_weight=1, seed=27), \n",
    " param_grid = param_test1, scoring='roc_auc',n_jobs=4,iid=False, cv=5)\n",
    "gsearch1.fit(train[predictors],train[target])\n",
    "gsearch1.grid_scores_, gsearch1.best_params_, gsearch1.best_score_\n"
   ]
  },
  {
   "cell_type": "code",
   "execution_count": null,
   "metadata": {},
   "outputs": [],
   "source": [
    "param_test2 = {\n",
    " 'max_depth':[4,5,6],\n",
    " 'min_child_weight':[4,5,6]\n",
    "}\n",
    "gsearch2 = GridSearchCV(estimator = XGBClassifier( learning_rate=0.1, n_estimators=140, max_depth=5,\n",
    " min_child_weight=2, gamma=0, subsample=0.8, colsample_bytree=0.8,\n",
    " objective= 'binary:logistic', nthread=4, scale_pos_weight=1,seed=27), \n",
    " param_grid = param_test2, scoring='roc_auc',n_jobs=4,iid=False, cv=5)\n",
    "gsearch2.fit(train[predictors],train[target])\n",
    "gsearch2.grid_scores_, gsearch2.best_params_, gsearch2.best_score_\n"
   ]
  },
  {
   "cell_type": "code",
   "execution_count": null,
   "metadata": {},
   "outputs": [],
   "source": [
    "param_test2b = {\n",
    " 'min_child_weight':[6,8,10,12]\n",
    "}\n",
    "gsearch2b = GridSearchCV(estimator = XGBClassifier( learning_rate=0.1, n_estimators=140, max_depth=4,\n",
    " min_child_weight=2, gamma=0, subsample=0.8, colsample_bytree=0.8,\n",
    " objective= 'binary:logistic', nthread=4, scale_pos_weight=1,seed=27), \n",
    " param_grid = param_test2b, scoring='roc_auc',n_jobs=4,iid=False, cv=5)\n",
    "gsearch2b.fit(train[predictors],train[target])\n",
    "modelfit(gsearch3.best_estimator_, train, predictors)\n",
    "gsearch2b.grid_scores_, gsearch2b.best_params_, gsearch2b.best_score_\n"
   ]
  },
  {
   "cell_type": "code",
   "execution_count": null,
   "metadata": {},
   "outputs": [],
   "source": [
    "param_test3 = {\n",
    " 'gamma':[i/10.0 for i in range(0,5)]\n",
    "}\n",
    "gsearch3 = GridSearchCV(estimator = XGBClassifier( learning_rate =0.1, n_estimators=140, max_depth=4,\n",
    " min_child_weight=6, gamma=0, subsample=0.8, colsample_bytree=0.8,\n",
    " objective= 'binary:logistic', nthread=4, scale_pos_weight=1,seed=27), \n",
    " param_grid = param_test3, scoring='roc_auc',n_jobs=4,iid=False, cv=5)\n",
    "gsearch3.fit(train[predictors],train[target])\n",
    "gsearch3.grid_scores_, gsearch3.best_params_, gsearch3.best_score_\n"
   ]
  },
  {
   "cell_type": "code",
   "execution_count": null,
   "metadata": {},
   "outputs": [],
   "source": [
    "xgb2 = XGBClassifier(\n",
    " learning_rate =0.1,\n",
    " n_estimators=1000,\n",
    " max_depth=4,\n",
    " min_child_weight=6,\n",
    " gamma=0,\n",
    " subsample=0.8,\n",
    " colsample_bytree=0.8,\n",
    " objective= 'binary:logistic',\n",
    " nthread=4,\n",
    " scale_pos_weight=1,\n",
    " seed=27)\n",
    "modelfit(xgb2, train, predictors)\n"
   ]
  },
  {
   "cell_type": "code",
   "execution_count": null,
   "metadata": {},
   "outputs": [],
   "source": [
    "param_test4 = {\n",
    " 'subsample':[i/10.0 for i in range(6,10)],\n",
    " 'colsample_bytree':[i/10.0 for i in range(6,10)]\n",
    "}\n",
    "gsearch4 = GridSearchCV(estimator = XGBClassifier( learning_rate =0.1, n_estimators=177, max_depth=4,\n",
    " min_child_weight=6, gamma=0, subsample=0.8, colsample_bytree=0.8,\n",
    " objective= 'binary:logistic', nthread=4, scale_pos_weight=1,seed=27), \n",
    " param_grid = param_test4, scoring='roc_auc',n_jobs=4,iid=False, cv=5)\n",
    "gsearch4.fit(train[predictors],train[target])\n",
    "gsearch4.grid_scores_, gsearch4.best_params_, gsearch4.best_score_\n"
   ]
  },
  {
   "cell_type": "code",
   "execution_count": null,
   "metadata": {},
   "outputs": [],
   "source": [
    "param_test5 = {\n",
    " 'subsample':[i/100.0 for i in range(75,90,5)],\n",
    " 'colsample_bytree':[i/100.0 for i in range(75,90,5)]\n",
    "}\n",
    "gsearch5 = GridSearchCV(estimator = XGBClassifier( learning_rate =0.1, n_estimators=177, max_depth=4,\n",
    " min_child_weight=6, gamma=0, subsample=0.8, colsample_bytree=0.8,\n",
    " objective= 'binary:logistic', nthread=4, scale_pos_weight=1,seed=27), \n",
    " param_grid = param_test5, scoring='roc_auc',n_jobs=4,iid=False, cv=5)\n",
    "\n",
    "# fit model\n",
    "gsearch5.fit(train[predictors],train[target])\n"
   ]
  },
  {
   "cell_type": "code",
   "execution_count": null,
   "metadata": {},
   "outputs": [],
   "source": [
    "param_test6 = {\n",
    " 'reg_alpha':[1e-5, 1e-2, 0.1, 1, 100]\n",
    "}\n",
    "gsearch6 = GridSearchCV(estimator = XGBClassifier( learning_rate =0.1, n_estimators=177, max_depth=4,\n",
    " min_child_weight=6, gamma=0.1, subsample=0.8, colsample_bytree=0.8,\n",
    " objective= 'binary:logistic', nthread=4, scale_pos_weight=1,seed=27), \n",
    " param_grid = param_test6, scoring='roc_auc',n_jobs=4,iid=False, cv=5)\n",
    "gsearch6.fit(train[predictors],train[target])\n",
    "gsearch6.grid_scores_, gsearch6.best_params_, gsearch6.best_score_\n"
   ]
  },
  {
   "cell_type": "code",
   "execution_count": null,
   "metadata": {},
   "outputs": [],
   "source": [
    "param_test7 = {\n",
    " 'reg_alpha':[0, 0.001, 0.005, 0.01, 0.05]\n",
    "}\n",
    "gsearch7 = GridSearchCV(estimator = XGBClassifier( learning_rate =0.1, n_estimators=177, max_depth=4,\n",
    " min_child_weight=6, gamma=0.1, subsample=0.8, colsample_bytree=0.8,\n",
    " objective= 'binary:logistic', nthread=4, scale_pos_weight=1,seed=27), \n",
    " param_grid = param_test7, scoring='roc_auc',n_jobs=4,iid=False, cv=5)\n",
    "\n",
    "# fit gsearch7\n",
    "gsearch7.fit(train[predictors],train[target])\n",
    "# scores\n",
    "gsearch7.grid_scores_, gsearch7.best_params_, gsearch7.best_score_\n"
   ]
  },
  {
   "cell_type": "code",
   "execution_count": null,
   "metadata": {},
   "outputs": [],
   "source": [
    "xgb3 = XGBClassifier(\n",
    " learning_rate =0.1,\n",
    " n_estimators=1000,\n",
    " max_depth=4,\n",
    " min_child_weight=6,\n",
    " gamma=0,\n",
    " subsample=0.8,\n",
    " colsample_bytree=0.8,\n",
    " reg_alpha=0.005,\n",
    " objective= 'binary:logistic'\n",
    "nthread=4,\n",
    " scale_pos_weight=1,\n",
    " seed=27)\n",
    "modelfit(xgb3, train, predictors)\n"
   ]
  },
  {
   "cell_type": "code",
   "execution_count": null,
   "metadata": {},
   "outputs": [],
   "source": [
    "# test4 parameters\n",
    "xgb4 = XGBClassifier(\n",
    " learning_rate =0.01,\n",
    " n_estimators=5000,\n",
    " max_depth=4,\n",
    " min_child_weight=6,\n",
    " gamma=0,\n",
    " subsample=0.8,\n",
    " colsample_bytree=0.8,\n",
    " reg_alpha=0.005,\n",
    " objective= 'binary:logistic',\n",
    " nthread=4,\n",
    " scale_pos_weight=1,\n",
    " seed=27)\n",
    "# fit model\n",
    "modelfit(xgb4, train, predictors)\n"
   ]
  },
  {
   "cell_type": "code",
   "execution_count": 285,
   "metadata": {},
   "outputs": [
    {
     "name": "stdout",
     "output_type": "stream",
     "text": [
      "Accuracy: 65.48%\n"
     ]
    }
   ],
   "source": [
    "# parameter optimisation\n",
    "model = XGBClassifier()\n",
    "model.fit(X_train, y_train)\n",
    "# make predictions for test data\n",
    "y_pred = model.predict(X_test)\n",
    "predictions = [round(value) for value in y_pred]\n",
    "# evaluate predictions\n",
    "accuracy = accuracy_score(y_test, predictions)\n",
    "print(\"Accuracy: %.2f%%\" % (accuracy * 100.0))\n"
   ]
  },
  {
   "cell_type": "code",
   "execution_count": 288,
   "metadata": {},
   "outputs": [
    {
     "data": {
      "text/plain": [
       "(0.6591250174697066, 0.6642160676574043, 0.6602176897989903, None)"
      ]
     },
     "execution_count": 288,
     "metadata": {},
     "output_type": "execute_result"
    }
   ],
   "source": [
    "precision_recall_fscore_support(y_true, predictions, average='macro')"
   ]
  },
  {
   "cell_type": "code",
   "execution_count": null,
   "metadata": {},
   "outputs": [],
   "source": []
  }
 ],
 "metadata": {
  "kernelspec": {
   "display_name": "Python 3",
   "language": "python",
   "name": "python3"
  },
  "language_info": {
   "codemirror_mode": {
    "name": "ipython",
    "version": 3
   },
   "file_extension": ".py",
   "mimetype": "text/x-python",
   "name": "python",
   "nbconvert_exporter": "python",
   "pygments_lexer": "ipython3",
   "version": "3.6.6"
  }
 },
 "nbformat": 4,
 "nbformat_minor": 2
}
